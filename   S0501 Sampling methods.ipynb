{
 "cells": [
  {
   "cell_type": "markdown",
   "id": "8bacfa6d",
   "metadata": {},
   "source": [
    "# Tasca mètodes de mostreig\n",
    "Aprèn a realitzar mostreig de les dades amb Python.\n",
    "\n",
    "Nivell 1\n",
    "- Exercici 1\n",
    "Agafa un conjunt de dades de tema esportiu que t'agradi. Realitza un mostreig de les dades generant una mostra aleatòria simple i una mostra sistemàtica.\n",
    "\n",
    "\n",
    "\n",
    "Nivell 2\n",
    "- Exercici 2\n",
    "Continua amb el conjunt de dades de tema esportiu i genera una mostra estratificada i una mostra utilitzant SMOTE (Synthetic Minority Oversampling Technique).\n",
    "\n",
    "\n",
    "\n",
    "Nivell 3\n",
    "- Exercici 3\n",
    "Continua amb el conjunt de dades de tema esportiu i genera una mostra utilitzant el mètode Reservoir sampling."
   ]
  },
  {
   "cell_type": "markdown",
   "id": "5452ad0f",
   "metadata": {},
   "source": [
    "# Libraries"
   ]
  },
  {
   "cell_type": "code",
   "execution_count": 1,
   "id": "84bf4abe",
   "metadata": {
    "ExecuteTime": {
     "end_time": "2022-03-29T22:55:34.718992Z",
     "start_time": "2022-03-29T22:55:33.074181Z"
    }
   },
   "outputs": [],
   "source": [
    "import pandas as pd\n",
    "import numpy as np\n",
    "import sklearn as sklearn\n",
    "import matplotlib.pyplot as plt\n",
    "import random\n",
    "from IPython.display import display_html \n",
    "from imblearn.under_sampling import RandomUnderSampler"
   ]
  },
  {
   "cell_type": "markdown",
   "id": "63af8326",
   "metadata": {},
   "source": [
    "# Read the Data"
   ]
  },
  {
   "cell_type": "markdown",
   "id": "e6a4ac48",
   "metadata": {},
   "source": [
    "For this Sprint i chose to work with the following datasets from the Olympic games .\n",
    "\n",
    "Here is the link for the datasets : https://www.kaggle.com/datasets/heesoo37/120-years-of-olympic-history-athletes-and-results"
   ]
  },
  {
   "cell_type": "code",
   "execution_count": 2,
   "id": "da4e6676",
   "metadata": {
    "ExecuteTime": {
     "end_time": "2022-03-29T22:55:38.461453Z",
     "start_time": "2022-03-29T22:55:38.028262Z"
    }
   },
   "outputs": [],
   "source": [
    "df = pd.read_csv('athlete_events.csv')"
   ]
  },
  {
   "cell_type": "code",
   "execution_count": 3,
   "id": "2db4185a",
   "metadata": {
    "ExecuteTime": {
     "end_time": "2022-03-29T22:55:39.262556Z",
     "start_time": "2022-03-29T22:55:39.253648Z"
    }
   },
   "outputs": [
    {
     "data": {
      "text/plain": [
       "(271116, 15)"
      ]
     },
     "execution_count": 3,
     "metadata": {},
     "output_type": "execute_result"
    }
   ],
   "source": [
    "df.shape"
   ]
  },
  {
   "cell_type": "code",
   "execution_count": 4,
   "id": "0d5a10d8",
   "metadata": {
    "ExecuteTime": {
     "end_time": "2022-03-29T22:55:42.902301Z",
     "start_time": "2022-03-29T22:55:42.808938Z"
    }
   },
   "outputs": [
    {
     "name": "stdout",
     "output_type": "stream",
     "text": [
      "<class 'pandas.core.frame.DataFrame'>\n",
      "RangeIndex: 271116 entries, 0 to 271115\n",
      "Data columns (total 15 columns):\n",
      " #   Column  Non-Null Count   Dtype  \n",
      "---  ------  --------------   -----  \n",
      " 0   ID      271116 non-null  int64  \n",
      " 1   Name    271116 non-null  object \n",
      " 2   Sex     271116 non-null  object \n",
      " 3   Age     261642 non-null  float64\n",
      " 4   Height  210945 non-null  float64\n",
      " 5   Weight  208241 non-null  float64\n",
      " 6   Team    271116 non-null  object \n",
      " 7   NOC     271116 non-null  object \n",
      " 8   Games   271116 non-null  object \n",
      " 9   Year    271116 non-null  int64  \n",
      " 10  Season  271116 non-null  object \n",
      " 11  City    271116 non-null  object \n",
      " 12  Sport   271116 non-null  object \n",
      " 13  Event   271116 non-null  object \n",
      " 14  Medal   39783 non-null   object \n",
      "dtypes: float64(3), int64(2), object(10)\n",
      "memory usage: 31.0+ MB\n"
     ]
    }
   ],
   "source": [
    "df.info()"
   ]
  },
  {
   "cell_type": "code",
   "execution_count": 5,
   "id": "eb353772",
   "metadata": {
    "ExecuteTime": {
     "end_time": "2022-03-29T22:55:44.192416Z",
     "start_time": "2022-03-29T22:55:44.167048Z"
    }
   },
   "outputs": [
    {
     "data": {
      "text/html": [
       "<div>\n",
       "<style scoped>\n",
       "    .dataframe tbody tr th:only-of-type {\n",
       "        vertical-align: middle;\n",
       "    }\n",
       "\n",
       "    .dataframe tbody tr th {\n",
       "        vertical-align: top;\n",
       "    }\n",
       "\n",
       "    .dataframe thead th {\n",
       "        text-align: right;\n",
       "    }\n",
       "</style>\n",
       "<table border=\"1\" class=\"dataframe\">\n",
       "  <thead>\n",
       "    <tr style=\"text-align: right;\">\n",
       "      <th></th>\n",
       "      <th>ID</th>\n",
       "      <th>Name</th>\n",
       "      <th>Sex</th>\n",
       "      <th>Age</th>\n",
       "      <th>Height</th>\n",
       "      <th>Weight</th>\n",
       "      <th>Team</th>\n",
       "      <th>NOC</th>\n",
       "      <th>Games</th>\n",
       "      <th>Year</th>\n",
       "      <th>Season</th>\n",
       "      <th>City</th>\n",
       "      <th>Sport</th>\n",
       "      <th>Event</th>\n",
       "      <th>Medal</th>\n",
       "    </tr>\n",
       "  </thead>\n",
       "  <tbody>\n",
       "    <tr>\n",
       "      <th>114829</th>\n",
       "      <td>58157</td>\n",
       "      <td>Yoshikatsu Kawaguchi</td>\n",
       "      <td>M</td>\n",
       "      <td>20.0</td>\n",
       "      <td>179.0</td>\n",
       "      <td>78.0</td>\n",
       "      <td>Japan</td>\n",
       "      <td>JPN</td>\n",
       "      <td>1996 Summer</td>\n",
       "      <td>1996</td>\n",
       "      <td>Summer</td>\n",
       "      <td>Atlanta</td>\n",
       "      <td>Football</td>\n",
       "      <td>Football Men's Football</td>\n",
       "      <td>NaN</td>\n",
       "    </tr>\n",
       "    <tr>\n",
       "      <th>9714</th>\n",
       "      <td>5325</td>\n",
       "      <td>Francisco Esteban Arru Pardo</td>\n",
       "      <td>M</td>\n",
       "      <td>23.0</td>\n",
       "      <td>169.0</td>\n",
       "      <td>64.0</td>\n",
       "      <td>Chile</td>\n",
       "      <td>CHI</td>\n",
       "      <td>2000 Summer</td>\n",
       "      <td>2000</td>\n",
       "      <td>Summer</td>\n",
       "      <td>Sydney</td>\n",
       "      <td>Football</td>\n",
       "      <td>Football Men's Football</td>\n",
       "      <td>Bronze</td>\n",
       "    </tr>\n",
       "    <tr>\n",
       "      <th>211622</th>\n",
       "      <td>106272</td>\n",
       "      <td>Mariya Sergeyevna Savinova (-Farnosova)</td>\n",
       "      <td>F</td>\n",
       "      <td>26.0</td>\n",
       "      <td>172.0</td>\n",
       "      <td>60.0</td>\n",
       "      <td>Russia</td>\n",
       "      <td>RUS</td>\n",
       "      <td>2012 Summer</td>\n",
       "      <td>2012</td>\n",
       "      <td>Summer</td>\n",
       "      <td>London</td>\n",
       "      <td>Athletics</td>\n",
       "      <td>Athletics Women's 800 metres</td>\n",
       "      <td>Gold</td>\n",
       "    </tr>\n",
       "    <tr>\n",
       "      <th>203089</th>\n",
       "      <td>101990</td>\n",
       "      <td>Henry Semiti Rogo</td>\n",
       "      <td>M</td>\n",
       "      <td>27.0</td>\n",
       "      <td>182.0</td>\n",
       "      <td>83.0</td>\n",
       "      <td>Fiji</td>\n",
       "      <td>FIJ</td>\n",
       "      <td>1996 Summer</td>\n",
       "      <td>1996</td>\n",
       "      <td>Summer</td>\n",
       "      <td>Atlanta</td>\n",
       "      <td>Athletics</td>\n",
       "      <td>Athletics Men's 4 x 400 metres Relay</td>\n",
       "      <td>NaN</td>\n",
       "    </tr>\n",
       "    <tr>\n",
       "      <th>217662</th>\n",
       "      <td>109333</td>\n",
       "      <td>Roger Fielding Anthony Sharpley</td>\n",
       "      <td>M</td>\n",
       "      <td>23.0</td>\n",
       "      <td>NaN</td>\n",
       "      <td>NaN</td>\n",
       "      <td>Great Britain</td>\n",
       "      <td>GBR</td>\n",
       "      <td>1952 Summer</td>\n",
       "      <td>1952</td>\n",
       "      <td>Summer</td>\n",
       "      <td>Helsinki</td>\n",
       "      <td>Rowing</td>\n",
       "      <td>Rowing Men's Coxed Eights</td>\n",
       "      <td>NaN</td>\n",
       "    </tr>\n",
       "  </tbody>\n",
       "</table>\n",
       "</div>"
      ],
      "text/plain": [
       "            ID                                     Name Sex   Age  Height  \\\n",
       "114829   58157                     Yoshikatsu Kawaguchi   M  20.0   179.0   \n",
       "9714      5325             Francisco Esteban Arru Pardo   M  23.0   169.0   \n",
       "211622  106272  Mariya Sergeyevna Savinova (-Farnosova)   F  26.0   172.0   \n",
       "203089  101990                        Henry Semiti Rogo   M  27.0   182.0   \n",
       "217662  109333          Roger Fielding Anthony Sharpley   M  23.0     NaN   \n",
       "\n",
       "        Weight           Team  NOC        Games  Year  Season      City  \\\n",
       "114829    78.0          Japan  JPN  1996 Summer  1996  Summer   Atlanta   \n",
       "9714      64.0          Chile  CHI  2000 Summer  2000  Summer    Sydney   \n",
       "211622    60.0         Russia  RUS  2012 Summer  2012  Summer    London   \n",
       "203089    83.0           Fiji  FIJ  1996 Summer  1996  Summer   Atlanta   \n",
       "217662     NaN  Great Britain  GBR  1952 Summer  1952  Summer  Helsinki   \n",
       "\n",
       "            Sport                                 Event   Medal  \n",
       "114829   Football               Football Men's Football     NaN  \n",
       "9714     Football               Football Men's Football  Bronze  \n",
       "211622  Athletics          Athletics Women's 800 metres    Gold  \n",
       "203089  Athletics  Athletics Men's 4 x 400 metres Relay     NaN  \n",
       "217662     Rowing             Rowing Men's Coxed Eights     NaN  "
      ]
     },
     "execution_count": 5,
     "metadata": {},
     "output_type": "execute_result"
    }
   ],
   "source": [
    "df.sample(5)"
   ]
  },
  {
   "cell_type": "code",
   "execution_count": 6,
   "id": "567b0944",
   "metadata": {
    "ExecuteTime": {
     "end_time": "2022-03-29T22:55:45.634538Z",
     "start_time": "2022-03-29T22:55:45.544239Z"
    }
   },
   "outputs": [
    {
     "data": {
      "text/plain": [
       "ID             0\n",
       "Name           0\n",
       "Sex            0\n",
       "Age         9474\n",
       "Height     60171\n",
       "Weight     62875\n",
       "Team           0\n",
       "NOC            0\n",
       "Games          0\n",
       "Year           0\n",
       "Season         0\n",
       "City           0\n",
       "Sport          0\n",
       "Event          0\n",
       "Medal     231333\n",
       "dtype: int64"
      ]
     },
     "execution_count": 6,
     "metadata": {},
     "output_type": "execute_result"
    }
   ],
   "source": [
    "# check for the nulls in the data frame \n",
    "\n",
    "df.isnull().sum()"
   ]
  },
  {
   "cell_type": "code",
   "execution_count": 7,
   "id": "73318808",
   "metadata": {
    "ExecuteTime": {
     "end_time": "2022-03-29T22:55:46.625297Z",
     "start_time": "2022-03-29T22:55:46.522945Z"
    }
   },
   "outputs": [
    {
     "data": {
      "text/plain": [
       "ID             0\n",
       "Name           0\n",
       "Sex            0\n",
       "Age            0\n",
       "Height         0\n",
       "Weight         0\n",
       "Team           0\n",
       "NOC            0\n",
       "Games          0\n",
       "Year           0\n",
       "Season         0\n",
       "City           0\n",
       "Sport          0\n",
       "Event          0\n",
       "Medal     175984\n",
       "dtype: int64"
      ]
     },
     "execution_count": 7,
     "metadata": {},
     "output_type": "execute_result"
    }
   ],
   "source": [
    "#drop the NA values in the my numeric columns \n",
    "\n",
    "df = df.dropna(subset =['Age','Height','Weight'])\n",
    "df.isnull().sum()"
   ]
  },
  {
   "cell_type": "markdown",
   "id": "82593e21",
   "metadata": {},
   "source": [
    "**Content**\n",
    "\n",
    "The file athlete_events.csv contains 271116 rows and 15 columns. Each row corresponds to an individual athlete\\\n",
    "competing in an individual Olympic event (athlete-events). The columns are:\n",
    "\n",
    "ID - Unique number for each athlete\\\n",
    "Name - Athlete's name\\\n",
    "Sex - M or F\\\n",
    "Age - Integer\\\n",
    "Height - In centimeters\\\n",
    "Weight - In kilograms\\\n",
    "Team - Team name\\\n",
    "NOC - National Olympic Committee 3-letter code\\\n",
    "Games - Year and season\\\n",
    "Year - Integer\\\n",
    "Season - Summer or Winter\\\n",
    "City - Host city\\\n",
    "Sport - Sport\\\n",
    "Event - Event\\\n",
    "Medal - Gold, Silver, Bronze, or NA"
   ]
  },
  {
   "cell_type": "code",
   "execution_count": 8,
   "id": "5236d860",
   "metadata": {
    "ExecuteTime": {
     "end_time": "2022-03-29T22:55:49.357104Z",
     "start_time": "2022-03-29T22:55:49.283361Z"
    }
   },
   "outputs": [],
   "source": [
    "# change categorical columns Sex, Season and Medal to integer: \n",
    "df_mapped = df.copy()\n",
    "# mapping sex\n",
    "df_mapped['Sex'] = df_mapped['Sex'].map({'M': 0, 'F': 1}).astype(int)\n",
    "    \n",
    "# mapping Season\n",
    "df_mapped['Season'] = df_mapped['Season'].map({'Winter' : 0, 'Summer': 1}).astype(int)\n",
    "    \n",
    "# mapping Medal\n",
    "medal_map = {np.nan: 0, 'Bronze': 3, 'Silver': 2, 'Gold': 1}\n",
    "df_mapped['Medal'] = df_mapped['Medal'].map(medal_map).astype(int)"
   ]
  },
  {
   "cell_type": "code",
   "execution_count": 9,
   "id": "346c8207",
   "metadata": {
    "ExecuteTime": {
     "end_time": "2022-03-29T22:55:55.493212Z",
     "start_time": "2022-03-29T22:55:55.475343Z"
    }
   },
   "outputs": [
    {
     "data": {
      "text/html": [
       "<div>\n",
       "<style scoped>\n",
       "    .dataframe tbody tr th:only-of-type {\n",
       "        vertical-align: middle;\n",
       "    }\n",
       "\n",
       "    .dataframe tbody tr th {\n",
       "        vertical-align: top;\n",
       "    }\n",
       "\n",
       "    .dataframe thead th {\n",
       "        text-align: right;\n",
       "    }\n",
       "</style>\n",
       "<table border=\"1\" class=\"dataframe\">\n",
       "  <thead>\n",
       "    <tr style=\"text-align: right;\">\n",
       "      <th></th>\n",
       "      <th>ID</th>\n",
       "      <th>Name</th>\n",
       "      <th>Sex</th>\n",
       "      <th>Age</th>\n",
       "      <th>Height</th>\n",
       "      <th>Weight</th>\n",
       "      <th>Team</th>\n",
       "      <th>NOC</th>\n",
       "      <th>Games</th>\n",
       "      <th>Year</th>\n",
       "      <th>Season</th>\n",
       "      <th>City</th>\n",
       "      <th>Sport</th>\n",
       "      <th>Event</th>\n",
       "      <th>Medal</th>\n",
       "    </tr>\n",
       "  </thead>\n",
       "  <tbody>\n",
       "    <tr>\n",
       "      <th>0</th>\n",
       "      <td>1</td>\n",
       "      <td>A Dijiang</td>\n",
       "      <td>0</td>\n",
       "      <td>24.0</td>\n",
       "      <td>180.0</td>\n",
       "      <td>80.0</td>\n",
       "      <td>China</td>\n",
       "      <td>CHN</td>\n",
       "      <td>1992 Summer</td>\n",
       "      <td>1992</td>\n",
       "      <td>1</td>\n",
       "      <td>Barcelona</td>\n",
       "      <td>Basketball</td>\n",
       "      <td>Basketball Men's Basketball</td>\n",
       "      <td>0</td>\n",
       "    </tr>\n",
       "    <tr>\n",
       "      <th>1</th>\n",
       "      <td>2</td>\n",
       "      <td>A Lamusi</td>\n",
       "      <td>0</td>\n",
       "      <td>23.0</td>\n",
       "      <td>170.0</td>\n",
       "      <td>60.0</td>\n",
       "      <td>China</td>\n",
       "      <td>CHN</td>\n",
       "      <td>2012 Summer</td>\n",
       "      <td>2012</td>\n",
       "      <td>1</td>\n",
       "      <td>London</td>\n",
       "      <td>Judo</td>\n",
       "      <td>Judo Men's Extra-Lightweight</td>\n",
       "      <td>0</td>\n",
       "    </tr>\n",
       "    <tr>\n",
       "      <th>4</th>\n",
       "      <td>5</td>\n",
       "      <td>Christine Jacoba Aaftink</td>\n",
       "      <td>1</td>\n",
       "      <td>21.0</td>\n",
       "      <td>185.0</td>\n",
       "      <td>82.0</td>\n",
       "      <td>Netherlands</td>\n",
       "      <td>NED</td>\n",
       "      <td>1988 Winter</td>\n",
       "      <td>1988</td>\n",
       "      <td>0</td>\n",
       "      <td>Calgary</td>\n",
       "      <td>Speed Skating</td>\n",
       "      <td>Speed Skating Women's 500 metres</td>\n",
       "      <td>0</td>\n",
       "    </tr>\n",
       "    <tr>\n",
       "      <th>5</th>\n",
       "      <td>5</td>\n",
       "      <td>Christine Jacoba Aaftink</td>\n",
       "      <td>1</td>\n",
       "      <td>21.0</td>\n",
       "      <td>185.0</td>\n",
       "      <td>82.0</td>\n",
       "      <td>Netherlands</td>\n",
       "      <td>NED</td>\n",
       "      <td>1988 Winter</td>\n",
       "      <td>1988</td>\n",
       "      <td>0</td>\n",
       "      <td>Calgary</td>\n",
       "      <td>Speed Skating</td>\n",
       "      <td>Speed Skating Women's 1,000 metres</td>\n",
       "      <td>0</td>\n",
       "    </tr>\n",
       "    <tr>\n",
       "      <th>6</th>\n",
       "      <td>5</td>\n",
       "      <td>Christine Jacoba Aaftink</td>\n",
       "      <td>1</td>\n",
       "      <td>25.0</td>\n",
       "      <td>185.0</td>\n",
       "      <td>82.0</td>\n",
       "      <td>Netherlands</td>\n",
       "      <td>NED</td>\n",
       "      <td>1992 Winter</td>\n",
       "      <td>1992</td>\n",
       "      <td>0</td>\n",
       "      <td>Albertville</td>\n",
       "      <td>Speed Skating</td>\n",
       "      <td>Speed Skating Women's 500 metres</td>\n",
       "      <td>0</td>\n",
       "    </tr>\n",
       "  </tbody>\n",
       "</table>\n",
       "</div>"
      ],
      "text/plain": [
       "   ID                      Name  Sex   Age  Height  Weight         Team  NOC  \\\n",
       "0   1                 A Dijiang    0  24.0   180.0    80.0        China  CHN   \n",
       "1   2                  A Lamusi    0  23.0   170.0    60.0        China  CHN   \n",
       "4   5  Christine Jacoba Aaftink    1  21.0   185.0    82.0  Netherlands  NED   \n",
       "5   5  Christine Jacoba Aaftink    1  21.0   185.0    82.0  Netherlands  NED   \n",
       "6   5  Christine Jacoba Aaftink    1  25.0   185.0    82.0  Netherlands  NED   \n",
       "\n",
       "         Games  Year  Season         City          Sport  \\\n",
       "0  1992 Summer  1992       1    Barcelona     Basketball   \n",
       "1  2012 Summer  2012       1       London           Judo   \n",
       "4  1988 Winter  1988       0      Calgary  Speed Skating   \n",
       "5  1988 Winter  1988       0      Calgary  Speed Skating   \n",
       "6  1992 Winter  1992       0  Albertville  Speed Skating   \n",
       "\n",
       "                                Event  Medal  \n",
       "0         Basketball Men's Basketball      0  \n",
       "1        Judo Men's Extra-Lightweight      0  \n",
       "4    Speed Skating Women's 500 metres      0  \n",
       "5  Speed Skating Women's 1,000 metres      0  \n",
       "6    Speed Skating Women's 500 metres      0  "
      ]
     },
     "execution_count": 9,
     "metadata": {},
     "output_type": "execute_result"
    }
   ],
   "source": [
    "df_mapped.head(5)"
   ]
  },
  {
   "cell_type": "code",
   "execution_count": 10,
   "id": "5c1a3b37",
   "metadata": {
    "ExecuteTime": {
     "end_time": "2022-03-29T22:56:01.319934Z",
     "start_time": "2022-03-29T22:56:01.270495Z"
    }
   },
   "outputs": [],
   "source": [
    "X_sex = df.drop(['Sex'], axis = 1)\n",
    "y_sex = df['Sex']\n",
    "\n",
    "\n",
    "X_season = df.drop(['Season'], axis = 1)\n",
    "y_season = df['Season']\n",
    "\n",
    "\n",
    "X_medal = df.drop(['Medal'],axis = 1)\n",
    "y_medal = df['Medal']"
   ]
  },
  {
   "cell_type": "markdown",
   "id": "4c17a384",
   "metadata": {},
   "source": [
    "# Class distribution"
   ]
  },
  {
   "cell_type": "code",
   "execution_count": 11,
   "id": "e0ceb63b",
   "metadata": {
    "ExecuteTime": {
     "end_time": "2022-03-29T22:56:03.427786Z",
     "start_time": "2022-03-29T22:56:03.408457Z"
    }
   },
   "outputs": [
    {
     "data": {
      "text/plain": [
       "M    139454\n",
       "F     66711\n",
       "Name: Sex, dtype: int64"
      ]
     },
     "execution_count": 11,
     "metadata": {},
     "output_type": "execute_result"
    }
   ],
   "source": [
    "sex_count = y_sex.value_counts()\n",
    "sex_count\n"
   ]
  },
  {
   "cell_type": "code",
   "execution_count": 12,
   "id": "df3dc11d",
   "metadata": {
    "ExecuteTime": {
     "end_time": "2022-03-29T22:56:10.686027Z",
     "start_time": "2022-03-29T22:56:10.597211Z"
    }
   },
   "outputs": [
    {
     "data": {
      "text/plain": [
       "<AxesSubplot:ylabel='Sex'>"
      ]
     },
     "execution_count": 12,
     "metadata": {},
     "output_type": "execute_result"
    },
    {
     "data": {
      "image/png": "[encoded data removed]",
      "text/plain": [
       "<Figure size 432x288 with 1 Axes>"
      ]
     },
     "metadata": {},
     "output_type": "display_data"
    }
   ],
   "source": [
    "sex_count.plot.pie(autopct='%.2f')"
   ]
  },
  {
   "cell_type": "code",
   "execution_count": 13,
   "id": "6f9c7432",
   "metadata": {
    "ExecuteTime": {
     "end_time": "2022-03-29T22:56:12.225350Z",
     "start_time": "2022-03-29T22:56:12.204701Z"
    }
   },
   "outputs": [
    {
     "data": {
      "text/plain": [
       "Summer    166706\n",
       "Winter     39459\n",
       "Name: Season, dtype: int64"
      ]
     },
     "execution_count": 13,
     "metadata": {},
     "output_type": "execute_result"
    }
   ],
   "source": [
    "season_count = y_season.value_counts()\n",
    "season_count"
   ]
  },
  {
   "cell_type": "code",
   "execution_count": 14,
   "id": "e7d75ec4",
   "metadata": {
    "ExecuteTime": {
     "end_time": "2022-03-29T22:56:14.511042Z",
     "start_time": "2022-03-29T22:56:14.434280Z"
    }
   },
   "outputs": [
    {
     "data": {
      "text/plain": [
       "<AxesSubplot:ylabel='Season'>"
      ]
     },
     "execution_count": 14,
     "metadata": {},
     "output_type": "execute_result"
    },
    {
     "data": {
      "image/png": "[encoded data removed]",
      "text/plain": [
       "<Figure size 432x288 with 1 Axes>"
      ]
     },
     "metadata": {},
     "output_type": "display_data"
    }
   ],
   "source": [
    "season_count.plot.pie(autopct='%.2f')"
   ]
  },
  {
   "cell_type": "code",
   "execution_count": 15,
   "id": "881681d1",
   "metadata": {
    "ExecuteTime": {
     "end_time": "2022-03-29T22:56:17.741919Z",
     "start_time": "2022-03-29T22:56:17.727597Z"
    }
   },
   "outputs": [
    {
     "data": {
      "text/plain": [
       "Gold      10167\n",
       "Bronze    10148\n",
       "Silver     9866\n",
       "Name: Medal, dtype: int64"
      ]
     },
     "execution_count": 15,
     "metadata": {},
     "output_type": "execute_result"
    }
   ],
   "source": [
    "medal_count = y_medal.value_counts()\n",
    "medal_count"
   ]
  },
  {
   "cell_type": "code",
   "execution_count": 18,
   "id": "8b138605",
   "metadata": {
    "ExecuteTime": {
     "end_time": "2022-03-29T22:57:14.330635Z",
     "start_time": "2022-03-29T22:57:14.057027Z"
    }
   },
   "outputs": [
    {
     "data": {
      "text/plain": [
       "([<matplotlib.patches.Wedge at 0x7f99cbe7a5e0>,\n",
       "  <matplotlib.patches.Wedge at 0x7f99cbe7a4c0>,\n",
       "  <matplotlib.patches.Wedge at 0x7f99cbd85dc0>],\n",
       " [Text(0.5393891593951571, 0.9586758235853171, 'Gold'),\n",
       "  Text(-1.0994601250100398, -0.03445915717059942, 'Bronze'),\n",
       "  Text(0.5691563940893086, -0.9413081318395458, 'Silver')],\n",
       " [Text(0.29421226876099477, 0.522914085591991, '33.69'),\n",
       "  Text(-0.5997055227327489, -0.018795903911236048, '33.62'),\n",
       "  Text(0.31044894223053193, -0.5134407991852067, '32.69')])"
      ]
     },
     "execution_count": 18,
     "metadata": {},
     "output_type": "execute_result"
    },
    {
     "data": {
      "image/png": "[encoded data removed]",
      "text/plain": [
       "<Figure size 432x288 with 1 Axes>"
      ]
     },
     "metadata": {},
     "output_type": "display_data"
    },
    {
     "data": {
      "image/png": "[encoded data removed]",
      "text/plain": [
       "<Figure size 432x288 with 1 Axes>"
      ]
     },
     "metadata": {},
     "output_type": "display_data"
    },
    {
     "data": {
      "image/png": "[encoded data removed]",
      "text/plain": [
       "<Figure size 432x288 with 1 Axes>"
      ]
     },
     "metadata": {},
     "output_type": "display_data"
    }
   ],
   "source": [
    "%matplotlib inline\n",
    "fig1, ax1 = plt.subplots()\n",
    "ax1.pie(y_sex.value_counts(), autopct='%.2f',labels=sex_count.index)\n",
    "\n",
    "fig1, ax2 = plt.subplots()\n",
    "ax2.pie(y_season.value_counts(), autopct='%.2f',labels=season_count.index)\n",
    "\n",
    "fig1, ax3 = plt.subplots()\n",
    "ax3.pie(y_medal.value_counts(), autopct='%.2f',labels=medal_count.index)"
   ]
  },
  {
   "cell_type": "markdown",
   "id": "9576291f",
   "metadata": {},
   "source": [
    "# Sampling Methods"
   ]
  },
  {
   "cell_type": "markdown",
   "id": "144a458e",
   "metadata": {},
   "source": [
    "## Simple random Sampling"
   ]
  },
  {
   "cell_type": "markdown",
   "id": "bdcf7dd0",
   "metadata": {},
   "source": [
    "The simple random sampling method selects random samples from a process or population where every unit hast the same probability of getting selected."
   ]
  },
  {
   "cell_type": "code",
   "execution_count": 19,
   "id": "c6504edf",
   "metadata": {
    "ExecuteTime": {
     "end_time": "2022-03-29T22:57:28.759413Z",
     "start_time": "2022-03-29T22:57:28.736526Z"
    }
   },
   "outputs": [
    {
     "data": {
      "text/html": [
       "<div>\n",
       "<style scoped>\n",
       "    .dataframe tbody tr th:only-of-type {\n",
       "        vertical-align: middle;\n",
       "    }\n",
       "\n",
       "    .dataframe tbody tr th {\n",
       "        vertical-align: top;\n",
       "    }\n",
       "\n",
       "    .dataframe thead th {\n",
       "        text-align: right;\n",
       "    }\n",
       "</style>\n",
       "<table border=\"1\" class=\"dataframe\">\n",
       "  <thead>\n",
       "    <tr style=\"text-align: right;\">\n",
       "      <th></th>\n",
       "      <th>ID</th>\n",
       "      <th>Name</th>\n",
       "      <th>Sex</th>\n",
       "      <th>Age</th>\n",
       "      <th>Height</th>\n",
       "      <th>Weight</th>\n",
       "      <th>Team</th>\n",
       "      <th>NOC</th>\n",
       "      <th>Games</th>\n",
       "      <th>Year</th>\n",
       "      <th>Season</th>\n",
       "      <th>City</th>\n",
       "      <th>Sport</th>\n",
       "      <th>Event</th>\n",
       "      <th>Medal</th>\n",
       "    </tr>\n",
       "  </thead>\n",
       "  <tbody>\n",
       "    <tr>\n",
       "      <th>142662</th>\n",
       "      <td>71584</td>\n",
       "      <td>Ketevan Losaberidze</td>\n",
       "      <td>F</td>\n",
       "      <td>23.0</td>\n",
       "      <td>162.0</td>\n",
       "      <td>75.0</td>\n",
       "      <td>Soviet Union</td>\n",
       "      <td>URS</td>\n",
       "      <td>1972 Summer</td>\n",
       "      <td>1972</td>\n",
       "      <td>Summer</td>\n",
       "      <td>Munich</td>\n",
       "      <td>Archery</td>\n",
       "      <td>Archery Women's Individual</td>\n",
       "      <td>NaN</td>\n",
       "    </tr>\n",
       "    <tr>\n",
       "      <th>230651</th>\n",
       "      <td>115768</td>\n",
       "      <td>Shirley Barbara Strickland de la Hunty</td>\n",
       "      <td>F</td>\n",
       "      <td>26.0</td>\n",
       "      <td>172.0</td>\n",
       "      <td>57.0</td>\n",
       "      <td>Australia</td>\n",
       "      <td>AUS</td>\n",
       "      <td>1952 Summer</td>\n",
       "      <td>1952</td>\n",
       "      <td>Summer</td>\n",
       "      <td>Helsinki</td>\n",
       "      <td>Athletics</td>\n",
       "      <td>Athletics Women's 100 metres</td>\n",
       "      <td>Bronze</td>\n",
       "    </tr>\n",
       "    <tr>\n",
       "      <th>5333</th>\n",
       "      <td>3022</td>\n",
       "      <td>Pentti Johannes Alonen</td>\n",
       "      <td>M</td>\n",
       "      <td>22.0</td>\n",
       "      <td>172.0</td>\n",
       "      <td>65.0</td>\n",
       "      <td>Finland</td>\n",
       "      <td>FIN</td>\n",
       "      <td>1948 Winter</td>\n",
       "      <td>1948</td>\n",
       "      <td>Winter</td>\n",
       "      <td>Sankt Moritz</td>\n",
       "      <td>Alpine Skiing</td>\n",
       "      <td>Alpine Skiing Men's Slalom</td>\n",
       "      <td>NaN</td>\n",
       "    </tr>\n",
       "    <tr>\n",
       "      <th>59982</th>\n",
       "      <td>30720</td>\n",
       "      <td>Alvydas Duonla</td>\n",
       "      <td>M</td>\n",
       "      <td>24.0</td>\n",
       "      <td>190.0</td>\n",
       "      <td>90.0</td>\n",
       "      <td>Lithuania</td>\n",
       "      <td>LTU</td>\n",
       "      <td>2000 Summer</td>\n",
       "      <td>2000</td>\n",
       "      <td>Summer</td>\n",
       "      <td>Sydney</td>\n",
       "      <td>Canoeing</td>\n",
       "      <td>Canoeing Men's Kayak Singles, 500 metres</td>\n",
       "      <td>NaN</td>\n",
       "    </tr>\n",
       "  </tbody>\n",
       "</table>\n",
       "</div>"
      ],
      "text/plain": [
       "            ID                                    Name Sex   Age  Height  \\\n",
       "142662   71584                     Ketevan Losaberidze   F  23.0   162.0   \n",
       "230651  115768  Shirley Barbara Strickland de la Hunty   F  26.0   172.0   \n",
       "5333      3022                  Pentti Johannes Alonen   M  22.0   172.0   \n",
       "59982    30720                          Alvydas Duonla   M  24.0   190.0   \n",
       "\n",
       "        Weight          Team  NOC        Games  Year  Season          City  \\\n",
       "142662    75.0  Soviet Union  URS  1972 Summer  1972  Summer        Munich   \n",
       "230651    57.0     Australia  AUS  1952 Summer  1952  Summer      Helsinki   \n",
       "5333      65.0       Finland  FIN  1948 Winter  1948  Winter  Sankt Moritz   \n",
       "59982     90.0     Lithuania  LTU  2000 Summer  2000  Summer        Sydney   \n",
       "\n",
       "                Sport                                     Event   Medal  \n",
       "142662        Archery                Archery Women's Individual     NaN  \n",
       "230651      Athletics              Athletics Women's 100 metres  Bronze  \n",
       "5333    Alpine Skiing                Alpine Skiing Men's Slalom     NaN  \n",
       "59982        Canoeing  Canoeing Men's Kayak Singles, 500 metres     NaN  "
      ]
     },
     "execution_count": 19,
     "metadata": {},
     "output_type": "execute_result"
    }
   ],
   "source": [
    "\n",
    "# Obtain simple random sample\n",
    "simple_random_sample = df.sample(n=4).sort_values(by='Height')\n",
    "\n",
    "# Save the sample mean in a separate variable\n",
    "simple_random_mean = round(simple_random_sample['Height'].mean(),3)\n",
    "\n",
    "# View sampled data frame\n",
    "simple_random_sample"
   ]
  },
  {
   "cell_type": "markdown",
   "id": "17bf9aa3",
   "metadata": {},
   "source": [
    "## Random   Undersampling with imblearn"
   ]
  },
  {
   "cell_type": "markdown",
   "id": "ee11d1e5",
   "metadata": {},
   "source": [
    "'not minority' = reasample all classes but the minority class"
   ]
  },
  {
   "cell_type": "code",
   "execution_count": 20,
   "id": "7e588def",
   "metadata": {
    "ExecuteTime": {
     "end_time": "2022-03-29T22:57:36.588013Z",
     "start_time": "2022-03-29T22:57:35.857685Z"
    }
   },
   "outputs": [
    {
     "ename": "AttributeError",
     "evalue": "'AxesSubplot' object has no attribute 'ser_title'",
     "output_type": "error",
     "traceback": [
      "\u001b[0;31m---------------------------------------------------------------------------\u001b[0m",
      "\u001b[0;31mAttributeError\u001b[0m                            Traceback (most recent call last)",
      "\u001b[0;32m/var/folders/f6/82v5s4vs3_s9h4b3z9dzgkg00000gn/T/ipykernel_23428/317516992.py\u001b[0m in \u001b[0;36m<module>\u001b[0;34m\u001b[0m\n\u001b[1;32m      6\u001b[0m \u001b[0;34m\u001b[0m\u001b[0m\n\u001b[1;32m      7\u001b[0m \u001b[0max\u001b[0m \u001b[0;34m=\u001b[0m \u001b[0my_season_rus\u001b[0m\u001b[0;34m.\u001b[0m\u001b[0mvalue_counts\u001b[0m\u001b[0;34m(\u001b[0m\u001b[0;34m)\u001b[0m\u001b[0;34m.\u001b[0m\u001b[0mplot\u001b[0m\u001b[0;34m.\u001b[0m\u001b[0mpie\u001b[0m\u001b[0;34m(\u001b[0m\u001b[0mautopct\u001b[0m \u001b[0;34m=\u001b[0m\u001b[0;34m'%.2f'\u001b[0m\u001b[0;34m)\u001b[0m\u001b[0;34m\u001b[0m\u001b[0;34m\u001b[0m\u001b[0m\n\u001b[0;32m----> 8\u001b[0;31m \u001b[0m_\u001b[0m \u001b[0;34m=\u001b[0m \u001b[0max\u001b[0m\u001b[0;34m.\u001b[0m\u001b[0mser_title\u001b[0m\u001b[0;34m(\u001b[0m\u001b[0;34m'Under-samlpling'\u001b[0m\u001b[0;34m)\u001b[0m\u001b[0;34m\u001b[0m\u001b[0;34m\u001b[0m\u001b[0m\n\u001b[0m\u001b[1;32m      9\u001b[0m \u001b[0;34m\u001b[0m\u001b[0m\n",
      "\u001b[0;31mAttributeError\u001b[0m: 'AxesSubplot' object has no attribute 'ser_title'"
     ]
    },
    {
     "data": {
      "image/png": "[encoded data removed]",
      "text/plain": [
       "<Figure size 432x288 with 1 Axes>"
      ]
     },
     "metadata": {},
     "output_type": "display_data"
    }
   ],
   "source": [
    "from imblearn.under_sampling import RandomUnderSampler\n",
    "\n",
    "rus_season = RandomUnderSampler(sampling_strategy=1) #\n",
    "\n",
    "X_season_rus , y_season_rus = rus_season.fit_resample(X_season, y_season)\n",
    "\n",
    "ax = y_season_rus.value_counts().plot.pie(autopct ='%.2f')\n",
    "_ = ax.ser_title('Under-samlpling')\n",
    "\n"
   ]
  },
  {
   "cell_type": "markdown",
   "id": "a260c971",
   "metadata": {},
   "source": [
    "**We can see that after performing a Random under sampling we get the same number of observations for each class**"
   ]
  },
  {
   "cell_type": "code",
   "execution_count": 21,
   "id": "cbc488db",
   "metadata": {
    "ExecuteTime": {
     "end_time": "2022-03-29T22:57:45.755320Z",
     "start_time": "2022-03-29T22:57:45.715462Z"
    }
   },
   "outputs": [
    {
     "name": "stdout",
     "output_type": "stream",
     "text": [
      "[('Summer', 39459), ('Winter', 39459)]\n",
      "[('Summer', 166706), ('Winter', 39459)]\n"
     ]
    }
   ],
   "source": [
    "from collections import Counter\n",
    "print(sorted(Counter(y_season_rus).items()))\n",
    "print(sorted(Counter(y_season).items()))\n"
   ]
  },
  {
   "cell_type": "markdown",
   "id": "52983a66",
   "metadata": {},
   "source": [
    "**We can see that performing a under sampling make that he keep the number of the minority class observations**"
   ]
  },
  {
   "cell_type": "markdown",
   "id": "96e391dd",
   "metadata": {},
   "source": [
    "## Random Oversampling"
   ]
  },
  {
   "cell_type": "markdown",
   "id": "324db8b7",
   "metadata": {},
   "source": [
    "'Not majority\" = resample all classes but the majority class"
   ]
  },
  {
   "cell_type": "code",
   "execution_count": 22,
   "id": "2d6d9e66",
   "metadata": {
    "ExecuteTime": {
     "end_time": "2022-03-29T22:57:51.771178Z",
     "start_time": "2022-03-29T22:57:51.124447Z"
    }
   },
   "outputs": [
    {
     "ename": "AttributeError",
     "evalue": "'AxesSubplot' object has no attribute 'ser_title'",
     "output_type": "error",
     "traceback": [
      "\u001b[0;31m---------------------------------------------------------------------------\u001b[0m",
      "\u001b[0;31mAttributeError\u001b[0m                            Traceback (most recent call last)",
      "\u001b[0;32m/var/folders/f6/82v5s4vs3_s9h4b3z9dzgkg00000gn/T/ipykernel_23428/3156245633.py\u001b[0m in \u001b[0;36m<module>\u001b[0;34m\u001b[0m\n\u001b[1;32m      5\u001b[0m \u001b[0;34m\u001b[0m\u001b[0m\n\u001b[1;32m      6\u001b[0m \u001b[0max\u001b[0m \u001b[0;34m=\u001b[0m \u001b[0my_sex_ros\u001b[0m\u001b[0;34m.\u001b[0m\u001b[0mvalue_counts\u001b[0m\u001b[0;34m(\u001b[0m\u001b[0;34m)\u001b[0m\u001b[0;34m.\u001b[0m\u001b[0mplot\u001b[0m\u001b[0;34m.\u001b[0m\u001b[0mpie\u001b[0m\u001b[0;34m(\u001b[0m\u001b[0mautopct\u001b[0m \u001b[0;34m=\u001b[0m\u001b[0;34m'%.2f'\u001b[0m\u001b[0;34m)\u001b[0m\u001b[0;34m\u001b[0m\u001b[0;34m\u001b[0m\u001b[0m\n\u001b[0;32m----> 7\u001b[0;31m \u001b[0m_\u001b[0m \u001b[0;34m=\u001b[0m \u001b[0max\u001b[0m\u001b[0;34m.\u001b[0m\u001b[0mser_title\u001b[0m\u001b[0;34m(\u001b[0m\u001b[0;34m'Over-samlpling'\u001b[0m\u001b[0;34m)\u001b[0m\u001b[0;34m\u001b[0m\u001b[0;34m\u001b[0m\u001b[0m\n\u001b[0m",
      "\u001b[0;31mAttributeError\u001b[0m: 'AxesSubplot' object has no attribute 'ser_title'"
     ]
    },
    {
     "data": {
      "image/png": "[encoded data removed]",
      "text/plain": [
       "<Figure size 432x288 with 1 Axes>"
      ]
     },
     "metadata": {},
     "output_type": "display_data"
    }
   ],
   "source": [
    "from imblearn.over_sampling import RandomOverSampler\n",
    "\n",
    "ros_sex = RandomOverSampler(random_state=42)\n",
    "X_sex_ros, y_sex_ros = ros_sex.fit_resample(X_sex, y_sex)\n",
    "\n",
    "ax = y_sex_ros.value_counts().plot.pie(autopct ='%.2f')\n",
    "_ = ax.ser_title('Over-samlpling')\n"
   ]
  },
  {
   "cell_type": "markdown",
   "id": "4ebfa51d",
   "metadata": {},
   "source": [
    "We can see that after performing a Random oversampling we get the same number of observations for each class."
   ]
  },
  {
   "cell_type": "code",
   "execution_count": 23,
   "id": "df22781b",
   "metadata": {
    "ExecuteTime": {
     "end_time": "2022-03-29T22:57:54.059728Z",
     "start_time": "2022-03-29T22:57:54.038059Z"
    }
   },
   "outputs": [
    {
     "data": {
      "text/plain": [
       "M    139454\n",
       "F    139454\n",
       "Name: Sex, dtype: int64"
      ]
     },
     "execution_count": 23,
     "metadata": {},
     "output_type": "execute_result"
    }
   ],
   "source": [
    "y_sex_ros.value_counts()"
   ]
  },
  {
   "cell_type": "code",
   "execution_count": 24,
   "id": "8ae4236f",
   "metadata": {
    "ExecuteTime": {
     "end_time": "2022-03-29T22:57:55.354995Z",
     "start_time": "2022-03-29T22:57:55.332622Z"
    }
   },
   "outputs": [
    {
     "data": {
      "text/plain": [
       "M    139454\n",
       "F     66711\n",
       "Name: Sex, dtype: int64"
      ]
     },
     "execution_count": 24,
     "metadata": {},
     "output_type": "execute_result"
    }
   ],
   "source": [
    "y_sex.value_counts()\n"
   ]
  },
  {
   "cell_type": "code",
   "execution_count": 25,
   "id": "5edef0c6",
   "metadata": {
    "ExecuteTime": {
     "end_time": "2022-03-29T22:57:57.130024Z",
     "start_time": "2022-03-29T22:57:57.076756Z"
    }
   },
   "outputs": [
    {
     "name": "stdout",
     "output_type": "stream",
     "text": [
      "[('F', 139454), ('M', 139454)]\n",
      "[('F', 66711), ('M', 139454)]\n"
     ]
    }
   ],
   "source": [
    "from collections import Counter\n",
    "print(sorted(Counter(y_sex_ros).items()))\n",
    "print(sorted(Counter(y_sex).items()))\n"
   ]
  },
  {
   "cell_type": "markdown",
   "id": "b2f7fbec",
   "metadata": {},
   "source": [
    " **We can see that with this method we add more data in the minority class to balance the majority class**"
   ]
  },
  {
   "cell_type": "markdown",
   "id": "87fc7935",
   "metadata": {},
   "source": [
    "## Systematic Sampling"
   ]
  },
  {
   "cell_type": "code",
   "execution_count": 26,
   "id": "3964a084",
   "metadata": {
    "ExecuteTime": {
     "end_time": "2022-03-29T22:58:03.307278Z",
     "start_time": "2022-03-29T22:58:03.274743Z"
    }
   },
   "outputs": [
    {
     "data": {
      "text/html": [
       "<div>\n",
       "<style scoped>\n",
       "    .dataframe tbody tr th:only-of-type {\n",
       "        vertical-align: middle;\n",
       "    }\n",
       "\n",
       "    .dataframe tbody tr th {\n",
       "        vertical-align: top;\n",
       "    }\n",
       "\n",
       "    .dataframe thead th {\n",
       "        text-align: right;\n",
       "    }\n",
       "</style>\n",
       "<table border=\"1\" class=\"dataframe\">\n",
       "  <thead>\n",
       "    <tr style=\"text-align: right;\">\n",
       "      <th></th>\n",
       "      <th>ID</th>\n",
       "      <th>Name</th>\n",
       "      <th>Sex</th>\n",
       "      <th>Age</th>\n",
       "      <th>Height</th>\n",
       "      <th>Weight</th>\n",
       "      <th>Team</th>\n",
       "      <th>NOC</th>\n",
       "      <th>Games</th>\n",
       "      <th>Year</th>\n",
       "      <th>Season</th>\n",
       "      <th>City</th>\n",
       "      <th>Sport</th>\n",
       "      <th>Event</th>\n",
       "      <th>Medal</th>\n",
       "    </tr>\n",
       "  </thead>\n",
       "  <tbody>\n",
       "    <tr>\n",
       "      <th>0</th>\n",
       "      <td>1</td>\n",
       "      <td>A Dijiang</td>\n",
       "      <td>M</td>\n",
       "      <td>24.0</td>\n",
       "      <td>180.0</td>\n",
       "      <td>80.0</td>\n",
       "      <td>China</td>\n",
       "      <td>CHN</td>\n",
       "      <td>1992 Summer</td>\n",
       "      <td>1992</td>\n",
       "      <td>Summer</td>\n",
       "      <td>Barcelona</td>\n",
       "      <td>Basketball</td>\n",
       "      <td>Basketball Men's Basketball</td>\n",
       "      <td>NaN</td>\n",
       "    </tr>\n",
       "    <tr>\n",
       "      <th>5</th>\n",
       "      <td>5</td>\n",
       "      <td>Christine Jacoba Aaftink</td>\n",
       "      <td>F</td>\n",
       "      <td>21.0</td>\n",
       "      <td>185.0</td>\n",
       "      <td>82.0</td>\n",
       "      <td>Netherlands</td>\n",
       "      <td>NED</td>\n",
       "      <td>1988 Winter</td>\n",
       "      <td>1988</td>\n",
       "      <td>Winter</td>\n",
       "      <td>Calgary</td>\n",
       "      <td>Speed Skating</td>\n",
       "      <td>Speed Skating Women's 1,000 metres</td>\n",
       "      <td>NaN</td>\n",
       "    </tr>\n",
       "    <tr>\n",
       "      <th>8</th>\n",
       "      <td>5</td>\n",
       "      <td>Christine Jacoba Aaftink</td>\n",
       "      <td>F</td>\n",
       "      <td>27.0</td>\n",
       "      <td>185.0</td>\n",
       "      <td>82.0</td>\n",
       "      <td>Netherlands</td>\n",
       "      <td>NED</td>\n",
       "      <td>1994 Winter</td>\n",
       "      <td>1994</td>\n",
       "      <td>Winter</td>\n",
       "      <td>Lillehammer</td>\n",
       "      <td>Speed Skating</td>\n",
       "      <td>Speed Skating Women's 500 metres</td>\n",
       "      <td>NaN</td>\n",
       "    </tr>\n",
       "    <tr>\n",
       "      <th>11</th>\n",
       "      <td>6</td>\n",
       "      <td>Per Knut Aaland</td>\n",
       "      <td>M</td>\n",
       "      <td>31.0</td>\n",
       "      <td>188.0</td>\n",
       "      <td>75.0</td>\n",
       "      <td>United States</td>\n",
       "      <td>USA</td>\n",
       "      <td>1992 Winter</td>\n",
       "      <td>1992</td>\n",
       "      <td>Winter</td>\n",
       "      <td>Albertville</td>\n",
       "      <td>Cross Country Skiing</td>\n",
       "      <td>Cross Country Skiing Men's 50 kilometres</td>\n",
       "      <td>NaN</td>\n",
       "    </tr>\n",
       "    <tr>\n",
       "      <th>14</th>\n",
       "      <td>6</td>\n",
       "      <td>Per Knut Aaland</td>\n",
       "      <td>M</td>\n",
       "      <td>33.0</td>\n",
       "      <td>188.0</td>\n",
       "      <td>75.0</td>\n",
       "      <td>United States</td>\n",
       "      <td>USA</td>\n",
       "      <td>1994 Winter</td>\n",
       "      <td>1994</td>\n",
       "      <td>Winter</td>\n",
       "      <td>Lillehammer</td>\n",
       "      <td>Cross Country Skiing</td>\n",
       "      <td>Cross Country Skiing Men's 10 kilometres</td>\n",
       "      <td>NaN</td>\n",
       "    </tr>\n",
       "    <tr>\n",
       "      <th>...</th>\n",
       "      <td>...</td>\n",
       "      <td>...</td>\n",
       "      <td>...</td>\n",
       "      <td>...</td>\n",
       "      <td>...</td>\n",
       "      <td>...</td>\n",
       "      <td>...</td>\n",
       "      <td>...</td>\n",
       "      <td>...</td>\n",
       "      <td>...</td>\n",
       "      <td>...</td>\n",
       "      <td>...</td>\n",
       "      <td>...</td>\n",
       "      <td>...</td>\n",
       "      <td>...</td>\n",
       "    </tr>\n",
       "    <tr>\n",
       "      <th>271102</th>\n",
       "      <td>135563</td>\n",
       "      <td>Olesya Nikolayevna Zykina</td>\n",
       "      <td>F</td>\n",
       "      <td>19.0</td>\n",
       "      <td>171.0</td>\n",
       "      <td>64.0</td>\n",
       "      <td>Russia</td>\n",
       "      <td>RUS</td>\n",
       "      <td>2000 Summer</td>\n",
       "      <td>2000</td>\n",
       "      <td>Summer</td>\n",
       "      <td>Sydney</td>\n",
       "      <td>Athletics</td>\n",
       "      <td>Athletics Women's 4 x 400 metres Relay</td>\n",
       "      <td>Bronze</td>\n",
       "    </tr>\n",
       "    <tr>\n",
       "      <th>271105</th>\n",
       "      <td>135565</td>\n",
       "      <td>Fernando scar Zylberberg</td>\n",
       "      <td>M</td>\n",
       "      <td>23.0</td>\n",
       "      <td>168.0</td>\n",
       "      <td>76.0</td>\n",
       "      <td>Argentina</td>\n",
       "      <td>ARG</td>\n",
       "      <td>2000 Summer</td>\n",
       "      <td>2000</td>\n",
       "      <td>Summer</td>\n",
       "      <td>Sydney</td>\n",
       "      <td>Hockey</td>\n",
       "      <td>Hockey Men's Hockey</td>\n",
       "      <td>NaN</td>\n",
       "    </tr>\n",
       "    <tr>\n",
       "      <th>271108</th>\n",
       "      <td>135567</td>\n",
       "      <td>Aleksandr Viktorovich Zyuzin</td>\n",
       "      <td>M</td>\n",
       "      <td>24.0</td>\n",
       "      <td>183.0</td>\n",
       "      <td>72.0</td>\n",
       "      <td>Russia</td>\n",
       "      <td>RUS</td>\n",
       "      <td>2000 Summer</td>\n",
       "      <td>2000</td>\n",
       "      <td>Summer</td>\n",
       "      <td>Sydney</td>\n",
       "      <td>Rowing</td>\n",
       "      <td>Rowing Men's Lightweight Coxless Fours</td>\n",
       "      <td>NaN</td>\n",
       "    </tr>\n",
       "    <tr>\n",
       "      <th>271111</th>\n",
       "      <td>135569</td>\n",
       "      <td>Andrzej ya</td>\n",
       "      <td>M</td>\n",
       "      <td>29.0</td>\n",
       "      <td>179.0</td>\n",
       "      <td>89.0</td>\n",
       "      <td>Poland-1</td>\n",
       "      <td>POL</td>\n",
       "      <td>1976 Winter</td>\n",
       "      <td>1976</td>\n",
       "      <td>Winter</td>\n",
       "      <td>Innsbruck</td>\n",
       "      <td>Luge</td>\n",
       "      <td>Luge Mixed (Men)'s Doubles</td>\n",
       "      <td>NaN</td>\n",
       "    </tr>\n",
       "    <tr>\n",
       "      <th>271114</th>\n",
       "      <td>135571</td>\n",
       "      <td>Tomasz Ireneusz ya</td>\n",
       "      <td>M</td>\n",
       "      <td>30.0</td>\n",
       "      <td>185.0</td>\n",
       "      <td>96.0</td>\n",
       "      <td>Poland</td>\n",
       "      <td>POL</td>\n",
       "      <td>1998 Winter</td>\n",
       "      <td>1998</td>\n",
       "      <td>Winter</td>\n",
       "      <td>Nagano</td>\n",
       "      <td>Bobsleigh</td>\n",
       "      <td>Bobsleigh Men's Four</td>\n",
       "      <td>NaN</td>\n",
       "    </tr>\n",
       "  </tbody>\n",
       "</table>\n",
       "<p>68722 rows × 15 columns</p>\n",
       "</div>"
      ],
      "text/plain": [
       "            ID                          Name Sex   Age  Height  Weight  \\\n",
       "0            1                     A Dijiang   M  24.0   180.0    80.0   \n",
       "5            5      Christine Jacoba Aaftink   F  21.0   185.0    82.0   \n",
       "8            5      Christine Jacoba Aaftink   F  27.0   185.0    82.0   \n",
       "11           6               Per Knut Aaland   M  31.0   188.0    75.0   \n",
       "14           6               Per Knut Aaland   M  33.0   188.0    75.0   \n",
       "...        ...                           ...  ..   ...     ...     ...   \n",
       "271102  135563     Olesya Nikolayevna Zykina   F  19.0   171.0    64.0   \n",
       "271105  135565      Fernando scar Zylberberg   M  23.0   168.0    76.0   \n",
       "271108  135567  Aleksandr Viktorovich Zyuzin   M  24.0   183.0    72.0   \n",
       "271111  135569                    Andrzej ya   M  29.0   179.0    89.0   \n",
       "271114  135571            Tomasz Ireneusz ya   M  30.0   185.0    96.0   \n",
       "\n",
       "                 Team  NOC        Games  Year  Season         City  \\\n",
       "0               China  CHN  1992 Summer  1992  Summer    Barcelona   \n",
       "5         Netherlands  NED  1988 Winter  1988  Winter      Calgary   \n",
       "8         Netherlands  NED  1994 Winter  1994  Winter  Lillehammer   \n",
       "11      United States  USA  1992 Winter  1992  Winter  Albertville   \n",
       "14      United States  USA  1994 Winter  1994  Winter  Lillehammer   \n",
       "...               ...  ...          ...   ...     ...          ...   \n",
       "271102         Russia  RUS  2000 Summer  2000  Summer       Sydney   \n",
       "271105      Argentina  ARG  2000 Summer  2000  Summer       Sydney   \n",
       "271108         Russia  RUS  2000 Summer  2000  Summer       Sydney   \n",
       "271111       Poland-1  POL  1976 Winter  1976  Winter    Innsbruck   \n",
       "271114         Poland  POL  1998 Winter  1998  Winter       Nagano   \n",
       "\n",
       "                       Sport                                     Event   Medal  \n",
       "0                 Basketball               Basketball Men's Basketball     NaN  \n",
       "5              Speed Skating        Speed Skating Women's 1,000 metres     NaN  \n",
       "8              Speed Skating          Speed Skating Women's 500 metres     NaN  \n",
       "11      Cross Country Skiing  Cross Country Skiing Men's 50 kilometres     NaN  \n",
       "14      Cross Country Skiing  Cross Country Skiing Men's 10 kilometres     NaN  \n",
       "...                      ...                                       ...     ...  \n",
       "271102             Athletics    Athletics Women's 4 x 400 metres Relay  Bronze  \n",
       "271105                Hockey                       Hockey Men's Hockey     NaN  \n",
       "271108                Rowing    Rowing Men's Lightweight Coxless Fours     NaN  \n",
       "271111                  Luge                Luge Mixed (Men)'s Doubles     NaN  \n",
       "271114             Bobsleigh                      Bobsleigh Men's Four     NaN  \n",
       "\n",
       "[68722 rows x 15 columns]"
      ]
     },
     "execution_count": 26,
     "metadata": {},
     "output_type": "execute_result"
    }
   ],
   "source": [
    "def systematic_sampling(df, step):\n",
    "    \n",
    "    indexes = np.arange(0,len(df),step=step)\n",
    "    systematic_sample = df.iloc[indexes]\n",
    "    return systematic_sample\n",
    "\n",
    "# Obtain a systematic sample and save it in a new variable\n",
    "systematic_sample = systematic_sampling(df, 3)\n",
    "\n",
    "# Save the sample mean in a separate variable\n",
    "systematic_mean = round(systematic_sample['Height'].mean(),3)\n",
    "\n",
    "# Store the real mean in a separate variable\n",
    "real_mean = round(df['Height'].mean(),3)\n",
    "\n",
    "# View sampled data frame\n",
    "systematic_sample\n",
    "\n"
   ]
  },
  {
   "cell_type": "markdown",
   "id": "e8ef532b",
   "metadata": {},
   "source": [
    "## Stratifeid Sampling"
   ]
  },
  {
   "cell_type": "code",
   "execution_count": 27,
   "id": "46be4daf",
   "metadata": {
    "ExecuteTime": {
     "end_time": "2022-03-29T22:58:10.152615Z",
     "start_time": "2022-03-29T22:58:09.912262Z"
    }
   },
   "outputs": [
    {
     "data": {
      "text/html": [
       "<div>\n",
       "<style scoped>\n",
       "    .dataframe tbody tr th:only-of-type {\n",
       "        vertical-align: middle;\n",
       "    }\n",
       "\n",
       "    .dataframe tbody tr th {\n",
       "        vertical-align: top;\n",
       "    }\n",
       "\n",
       "    .dataframe thead th {\n",
       "        text-align: right;\n",
       "    }\n",
       "</style>\n",
       "<table border=\"1\" class=\"dataframe\">\n",
       "  <thead>\n",
       "    <tr style=\"text-align: right;\">\n",
       "      <th></th>\n",
       "      <th>ID</th>\n",
       "      <th>Name</th>\n",
       "      <th>Sex</th>\n",
       "      <th>Age</th>\n",
       "      <th>Height</th>\n",
       "      <th>Weight</th>\n",
       "      <th>Team</th>\n",
       "      <th>NOC</th>\n",
       "      <th>Games</th>\n",
       "      <th>Year</th>\n",
       "      <th>Season</th>\n",
       "      <th>City</th>\n",
       "      <th>Sport</th>\n",
       "      <th>Event</th>\n",
       "      <th>Medal</th>\n",
       "    </tr>\n",
       "  </thead>\n",
       "  <tbody>\n",
       "    <tr>\n",
       "      <th>246532</th>\n",
       "      <td>123443</td>\n",
       "      <td>Sndor Urbanik</td>\n",
       "      <td>M</td>\n",
       "      <td>23.0</td>\n",
       "      <td>172.0</td>\n",
       "      <td>60.0</td>\n",
       "      <td>Hungary</td>\n",
       "      <td>HUN</td>\n",
       "      <td>1988 Summer</td>\n",
       "      <td>1988</td>\n",
       "      <td>Summer</td>\n",
       "      <td>Seoul</td>\n",
       "      <td>Athletics</td>\n",
       "      <td>Athletics Men's 20 kilometres Walk</td>\n",
       "      <td>NaN</td>\n",
       "    </tr>\n",
       "    <tr>\n",
       "      <th>24101</th>\n",
       "      <td>12640</td>\n",
       "      <td>Richrd Bodor</td>\n",
       "      <td>M</td>\n",
       "      <td>29.0</td>\n",
       "      <td>182.0</td>\n",
       "      <td>73.0</td>\n",
       "      <td>Hungary</td>\n",
       "      <td>HUN</td>\n",
       "      <td>2008 Summer</td>\n",
       "      <td>2008</td>\n",
       "      <td>Summer</td>\n",
       "      <td>Beijing</td>\n",
       "      <td>Swimming</td>\n",
       "      <td>Swimming Men's 100 metres Breaststroke</td>\n",
       "      <td>NaN</td>\n",
       "    </tr>\n",
       "    <tr>\n",
       "      <th>235936</th>\n",
       "      <td>118304</td>\n",
       "      <td>Wenling Tan Monfardini</td>\n",
       "      <td>F</td>\n",
       "      <td>31.0</td>\n",
       "      <td>152.0</td>\n",
       "      <td>45.0</td>\n",
       "      <td>Italy</td>\n",
       "      <td>ITA</td>\n",
       "      <td>2004 Summer</td>\n",
       "      <td>2004</td>\n",
       "      <td>Summer</td>\n",
       "      <td>Athina</td>\n",
       "      <td>Table Tennis</td>\n",
       "      <td>Table Tennis Women's Singles</td>\n",
       "      <td>NaN</td>\n",
       "    </tr>\n",
       "    <tr>\n",
       "      <th>8730</th>\n",
       "      <td>4799</td>\n",
       "      <td>Shizuka Arakawa</td>\n",
       "      <td>F</td>\n",
       "      <td>24.0</td>\n",
       "      <td>164.0</td>\n",
       "      <td>50.0</td>\n",
       "      <td>Japan</td>\n",
       "      <td>JPN</td>\n",
       "      <td>2006 Winter</td>\n",
       "      <td>2006</td>\n",
       "      <td>Winter</td>\n",
       "      <td>Torino</td>\n",
       "      <td>Figure Skating</td>\n",
       "      <td>Figure Skating Women's Singles</td>\n",
       "      <td>Gold</td>\n",
       "    </tr>\n",
       "    <tr>\n",
       "      <th>241899</th>\n",
       "      <td>121162</td>\n",
       "      <td>Segun Moses Toriola</td>\n",
       "      <td>M</td>\n",
       "      <td>29.0</td>\n",
       "      <td>182.0</td>\n",
       "      <td>70.0</td>\n",
       "      <td>Nigeria</td>\n",
       "      <td>NGR</td>\n",
       "      <td>2004 Summer</td>\n",
       "      <td>2004</td>\n",
       "      <td>Summer</td>\n",
       "      <td>Athina</td>\n",
       "      <td>Table Tennis</td>\n",
       "      <td>Table Tennis Men's Singles</td>\n",
       "      <td>NaN</td>\n",
       "    </tr>\n",
       "    <tr>\n",
       "      <th>7926</th>\n",
       "      <td>4389</td>\n",
       "      <td>Nina Valentinovna Anisimova</td>\n",
       "      <td>F</td>\n",
       "      <td>31.0</td>\n",
       "      <td>180.0</td>\n",
       "      <td>72.0</td>\n",
       "      <td>Russia</td>\n",
       "      <td>RUS</td>\n",
       "      <td>2004 Summer</td>\n",
       "      <td>2004</td>\n",
       "      <td>Summer</td>\n",
       "      <td>Athina</td>\n",
       "      <td>Triathlon</td>\n",
       "      <td>Triathlon Women's Olympic Distance</td>\n",
       "      <td>NaN</td>\n",
       "    </tr>\n",
       "    <tr>\n",
       "      <th>250175</th>\n",
       "      <td>125308</td>\n",
       "      <td>Rostislav Yevgenyevich Vargashkin</td>\n",
       "      <td>M</td>\n",
       "      <td>23.0</td>\n",
       "      <td>173.0</td>\n",
       "      <td>69.0</td>\n",
       "      <td>Soviet Union</td>\n",
       "      <td>URS</td>\n",
       "      <td>1956 Summer</td>\n",
       "      <td>1956</td>\n",
       "      <td>Summer</td>\n",
       "      <td>Melbourne</td>\n",
       "      <td>Cycling</td>\n",
       "      <td>Cycling Men's Tandem Sprint, 2,000 metres</td>\n",
       "      <td>NaN</td>\n",
       "    </tr>\n",
       "    <tr>\n",
       "      <th>159691</th>\n",
       "      <td>80146</td>\n",
       "      <td>Margaret \"Meg\" Miners</td>\n",
       "      <td>F</td>\n",
       "      <td>16.0</td>\n",
       "      <td>156.0</td>\n",
       "      <td>51.0</td>\n",
       "      <td>Zimbabwe</td>\n",
       "      <td>ZIM</td>\n",
       "      <td>1960 Summer</td>\n",
       "      <td>1960</td>\n",
       "      <td>Summer</td>\n",
       "      <td>Roma</td>\n",
       "      <td>Swimming</td>\n",
       "      <td>Swimming Women's 4 x 100 metres Medley Relay</td>\n",
       "      <td>NaN</td>\n",
       "    </tr>\n",
       "  </tbody>\n",
       "</table>\n",
       "</div>"
      ],
      "text/plain": [
       "            ID                               Name Sex   Age  Height  Weight  \\\n",
       "246532  123443                      Sndor Urbanik   M  23.0   172.0    60.0   \n",
       "24101    12640                       Richrd Bodor   M  29.0   182.0    73.0   \n",
       "235936  118304             Wenling Tan Monfardini   F  31.0   152.0    45.0   \n",
       "8730      4799                    Shizuka Arakawa   F  24.0   164.0    50.0   \n",
       "241899  121162                Segun Moses Toriola   M  29.0   182.0    70.0   \n",
       "7926      4389        Nina Valentinovna Anisimova   F  31.0   180.0    72.0   \n",
       "250175  125308  Rostislav Yevgenyevich Vargashkin   M  23.0   173.0    69.0   \n",
       "159691   80146              Margaret \"Meg\" Miners   F  16.0   156.0    51.0   \n",
       "\n",
       "                Team  NOC        Games  Year  Season       City  \\\n",
       "246532       Hungary  HUN  1988 Summer  1988  Summer      Seoul   \n",
       "24101        Hungary  HUN  2008 Summer  2008  Summer    Beijing   \n",
       "235936         Italy  ITA  2004 Summer  2004  Summer     Athina   \n",
       "8730           Japan  JPN  2006 Winter  2006  Winter     Torino   \n",
       "241899       Nigeria  NGR  2004 Summer  2004  Summer     Athina   \n",
       "7926          Russia  RUS  2004 Summer  2004  Summer     Athina   \n",
       "250175  Soviet Union  URS  1956 Summer  1956  Summer  Melbourne   \n",
       "159691      Zimbabwe  ZIM  1960 Summer  1960  Summer       Roma   \n",
       "\n",
       "                 Sport                                         Event Medal  \n",
       "246532       Athletics            Athletics Men's 20 kilometres Walk   NaN  \n",
       "24101         Swimming        Swimming Men's 100 metres Breaststroke   NaN  \n",
       "235936    Table Tennis                  Table Tennis Women's Singles   NaN  \n",
       "8730    Figure Skating                Figure Skating Women's Singles  Gold  \n",
       "241899    Table Tennis                    Table Tennis Men's Singles   NaN  \n",
       "7926         Triathlon            Triathlon Women's Olympic Distance   NaN  \n",
       "250175         Cycling     Cycling Men's Tandem Sprint, 2,000 metres   NaN  \n",
       "159691        Swimming  Swimming Women's 4 x 100 metres Medley Relay   NaN  "
      ]
     },
     "execution_count": 27,
     "metadata": {},
     "output_type": "execute_result"
    }
   ],
   "source": [
    "# Import StratifiedShuffleSplit\n",
    "from sklearn.model_selection import StratifiedShuffleSplit\n",
    "\n",
    "# Set the split criteria\n",
    "split = StratifiedShuffleSplit(n_splits=6, test_size=8)\n",
    "\n",
    "for x, y in split.split(df_mapped, df_mapped['Medal']):\n",
    "    stratified_random_sample = df.iloc[y].sort_values(by='Team')\n",
    "    \n",
    "# View sampled data frame\n",
    "stratified_random_sample"
   ]
  },
  {
   "cell_type": "code",
   "execution_count": 28,
   "id": "0cd5ee04",
   "metadata": {
    "ExecuteTime": {
     "end_time": "2022-03-29T22:58:11.412548Z",
     "start_time": "2022-03-29T22:58:11.396613Z"
    }
   },
   "outputs": [
    {
     "data": {
      "text/html": [
       "<div>\n",
       "<style scoped>\n",
       "    .dataframe tbody tr th:only-of-type {\n",
       "        vertical-align: middle;\n",
       "    }\n",
       "\n",
       "    .dataframe tbody tr th {\n",
       "        vertical-align: top;\n",
       "    }\n",
       "\n",
       "    .dataframe thead th {\n",
       "        text-align: right;\n",
       "    }\n",
       "</style>\n",
       "<table border=\"1\" class=\"dataframe\">\n",
       "  <thead>\n",
       "    <tr style=\"text-align: right;\">\n",
       "      <th></th>\n",
       "      <th>ID</th>\n",
       "      <th>Age</th>\n",
       "      <th>Height</th>\n",
       "      <th>Weight</th>\n",
       "      <th>Year</th>\n",
       "    </tr>\n",
       "    <tr>\n",
       "      <th>Team</th>\n",
       "      <th></th>\n",
       "      <th></th>\n",
       "      <th></th>\n",
       "      <th></th>\n",
       "      <th></th>\n",
       "    </tr>\n",
       "  </thead>\n",
       "  <tbody>\n",
       "    <tr>\n",
       "      <th>Hungary</th>\n",
       "      <td>68041.5</td>\n",
       "      <td>26.0</td>\n",
       "      <td>177.0</td>\n",
       "      <td>66.5</td>\n",
       "      <td>1998.0</td>\n",
       "    </tr>\n",
       "    <tr>\n",
       "      <th>Italy</th>\n",
       "      <td>118304.0</td>\n",
       "      <td>31.0</td>\n",
       "      <td>152.0</td>\n",
       "      <td>45.0</td>\n",
       "      <td>2004.0</td>\n",
       "    </tr>\n",
       "    <tr>\n",
       "      <th>Japan</th>\n",
       "      <td>4799.0</td>\n",
       "      <td>24.0</td>\n",
       "      <td>164.0</td>\n",
       "      <td>50.0</td>\n",
       "      <td>2006.0</td>\n",
       "    </tr>\n",
       "    <tr>\n",
       "      <th>Nigeria</th>\n",
       "      <td>121162.0</td>\n",
       "      <td>29.0</td>\n",
       "      <td>182.0</td>\n",
       "      <td>70.0</td>\n",
       "      <td>2004.0</td>\n",
       "    </tr>\n",
       "    <tr>\n",
       "      <th>Russia</th>\n",
       "      <td>4389.0</td>\n",
       "      <td>31.0</td>\n",
       "      <td>180.0</td>\n",
       "      <td>72.0</td>\n",
       "      <td>2004.0</td>\n",
       "    </tr>\n",
       "    <tr>\n",
       "      <th>Soviet Union</th>\n",
       "      <td>125308.0</td>\n",
       "      <td>23.0</td>\n",
       "      <td>173.0</td>\n",
       "      <td>69.0</td>\n",
       "      <td>1956.0</td>\n",
       "    </tr>\n",
       "    <tr>\n",
       "      <th>Zimbabwe</th>\n",
       "      <td>80146.0</td>\n",
       "      <td>16.0</td>\n",
       "      <td>156.0</td>\n",
       "      <td>51.0</td>\n",
       "      <td>1960.0</td>\n",
       "    </tr>\n",
       "  </tbody>\n",
       "</table>\n",
       "</div>"
      ],
      "text/plain": [
       "                    ID   Age  Height  Weight    Year\n",
       "Team                                                \n",
       "Hungary        68041.5  26.0   177.0    66.5  1998.0\n",
       "Italy         118304.0  31.0   152.0    45.0  2004.0\n",
       "Japan           4799.0  24.0   164.0    50.0  2006.0\n",
       "Nigeria       121162.0  29.0   182.0    70.0  2004.0\n",
       "Russia          4389.0  31.0   180.0    72.0  2004.0\n",
       "Soviet Union  125308.0  23.0   173.0    69.0  1956.0\n",
       "Zimbabwe       80146.0  16.0   156.0    51.0  1960.0"
      ]
     },
     "execution_count": 28,
     "metadata": {},
     "output_type": "execute_result"
    }
   ],
   "source": [
    "# Op\n",
    "stratified_random_sample.groupby('Team').mean()"
   ]
  },
  {
   "cell_type": "markdown",
   "id": "20e33e9e",
   "metadata": {
    "ExecuteTime": {
     "end_time": "2022-03-29T14:50:42.102987Z",
     "start_time": "2022-03-29T14:50:42.099016Z"
    }
   },
   "source": [
    "## SMOTE Sampling"
   ]
  },
  {
   "cell_type": "code",
   "execution_count": 29,
   "id": "20c7154c",
   "metadata": {
    "ExecuteTime": {
     "end_time": "2022-03-29T22:58:24.247210Z",
     "start_time": "2022-03-29T22:58:24.211272Z"
    }
   },
   "outputs": [
    {
     "data": {
      "text/html": [
       "<div>\n",
       "<style scoped>\n",
       "    .dataframe tbody tr th:only-of-type {\n",
       "        vertical-align: middle;\n",
       "    }\n",
       "\n",
       "    .dataframe tbody tr th {\n",
       "        vertical-align: top;\n",
       "    }\n",
       "\n",
       "    .dataframe thead th {\n",
       "        text-align: right;\n",
       "    }\n",
       "</style>\n",
       "<table border=\"1\" class=\"dataframe\">\n",
       "  <thead>\n",
       "    <tr style=\"text-align: right;\">\n",
       "      <th></th>\n",
       "      <th>Sex</th>\n",
       "      <th>Age</th>\n",
       "      <th>Height</th>\n",
       "      <th>Weight</th>\n",
       "      <th>Year</th>\n",
       "      <th>Season</th>\n",
       "      <th>Medal</th>\n",
       "    </tr>\n",
       "  </thead>\n",
       "  <tbody>\n",
       "    <tr>\n",
       "      <th>106312</th>\n",
       "      <td>0</td>\n",
       "      <td>31.0</td>\n",
       "      <td>176.0</td>\n",
       "      <td>66.0</td>\n",
       "      <td>1972</td>\n",
       "      <td>1</td>\n",
       "      <td>0</td>\n",
       "    </tr>\n",
       "    <tr>\n",
       "      <th>123256</th>\n",
       "      <td>0</td>\n",
       "      <td>29.0</td>\n",
       "      <td>192.0</td>\n",
       "      <td>93.0</td>\n",
       "      <td>1998</td>\n",
       "      <td>0</td>\n",
       "      <td>0</td>\n",
       "    </tr>\n",
       "    <tr>\n",
       "      <th>196972</th>\n",
       "      <td>0</td>\n",
       "      <td>25.0</td>\n",
       "      <td>173.0</td>\n",
       "      <td>68.0</td>\n",
       "      <td>1996</td>\n",
       "      <td>1</td>\n",
       "      <td>0</td>\n",
       "    </tr>\n",
       "    <tr>\n",
       "      <th>150082</th>\n",
       "      <td>0</td>\n",
       "      <td>24.0</td>\n",
       "      <td>180.0</td>\n",
       "      <td>72.0</td>\n",
       "      <td>1920</td>\n",
       "      <td>1</td>\n",
       "      <td>0</td>\n",
       "    </tr>\n",
       "    <tr>\n",
       "      <th>251494</th>\n",
       "      <td>0</td>\n",
       "      <td>25.0</td>\n",
       "      <td>173.0</td>\n",
       "      <td>70.0</td>\n",
       "      <td>2016</td>\n",
       "      <td>1</td>\n",
       "      <td>1</td>\n",
       "    </tr>\n",
       "  </tbody>\n",
       "</table>\n",
       "</div>"
      ],
      "text/plain": [
       "        Sex   Age  Height  Weight  Year  Season  Medal\n",
       "106312    0  31.0   176.0    66.0  1972       1      0\n",
       "123256    0  29.0   192.0    93.0  1998       0      0\n",
       "196972    0  25.0   173.0    68.0  1996       1      0\n",
       "150082    0  24.0   180.0    72.0  1920       1      0\n",
       "251494    0  25.0   173.0    70.0  2016       1      1"
      ]
     },
     "execution_count": 29,
     "metadata": {},
     "output_type": "execute_result"
    }
   ],
   "source": [
    "df_smote = df_mapped[['Sex','Age', 'Height', 'Weight','Year', 'Season', 'Medal']]\n",
    "df_smote.sample(5)"
   ]
  },
  {
   "cell_type": "code",
   "execution_count": 30,
   "id": "89bd6497",
   "metadata": {
    "ExecuteTime": {
     "end_time": "2022-03-29T22:58:32.807729Z",
     "start_time": "2022-03-29T22:58:32.446798Z"
    }
   },
   "outputs": [],
   "source": [
    "from imblearn.over_sampling import SMOTE\n",
    "\n",
    "sm = SMOTE(random_state=42)\n",
    "\n",
    "X_season_sm, y_season_sm = sm.fit_resample(df_smote,df_smote['Season'])\n"
   ]
  },
  {
   "cell_type": "code",
   "execution_count": 31,
   "id": "6768f1b3",
   "metadata": {
    "ExecuteTime": {
     "end_time": "2022-03-29T22:58:34.014411Z",
     "start_time": "2022-03-29T22:58:33.955626Z"
    }
   },
   "outputs": [
    {
     "name": "stdout",
     "output_type": "stream",
     "text": [
      "[(0, 166706), (1, 166706)]\n",
      "[('Summer', 166706), ('Winter', 39459)]\n"
     ]
    }
   ],
   "source": [
    "from collections import Counter\n",
    "print(sorted(Counter(y_season_sm).items()))\n",
    "\n",
    "print(sorted(Counter(y_season).items()))\n"
   ]
  },
  {
   "cell_type": "markdown",
   "id": "cd9451f0",
   "metadata": {},
   "source": [
    "**We can see that we get a sample with the same observation for each class by oversampling**"
   ]
  },
  {
   "cell_type": "markdown",
   "id": "fb151287",
   "metadata": {},
   "source": [
    "### BorderlineSmote Sampling"
   ]
  },
  {
   "cell_type": "code",
   "execution_count": 32,
   "id": "583d1508",
   "metadata": {
    "ExecuteTime": {
     "end_time": "2022-03-29T22:58:47.492288Z",
     "start_time": "2022-03-29T22:58:45.564376Z"
    }
   },
   "outputs": [],
   "source": [
    "from imblearn.over_sampling import BorderlineSMOTE\n",
    "\n",
    "sm_bl = BorderlineSMOTE()\n",
    "X_medal_sm_bl , y_medal_sm_bl = sm_bl.fit_resample(df_smote,df_smote['Medal'])"
   ]
  },
  {
   "cell_type": "code",
   "execution_count": 33,
   "id": "5df6d480",
   "metadata": {
    "ExecuteTime": {
     "end_time": "2022-03-29T22:58:50.013261Z",
     "start_time": "2022-03-29T22:58:49.918954Z"
    }
   },
   "outputs": [
    {
     "name": "stdout",
     "output_type": "stream",
     "text": [
      "[(0, 175984), (1, 175984), (2, 175984), (3, 175984)]\n"
     ]
    },
    {
     "ename": "TypeError",
     "evalue": "'<' not supported between instances of 'str' and 'float'",
     "output_type": "error",
     "traceback": [
      "\u001b[0;31m---------------------------------------------------------------------------\u001b[0m",
      "\u001b[0;31mTypeError\u001b[0m                                 Traceback (most recent call last)",
      "\u001b[0;32m/var/folders/f6/82v5s4vs3_s9h4b3z9dzgkg00000gn/T/ipykernel_23428/3596366392.py\u001b[0m in \u001b[0;36m<module>\u001b[0;34m\u001b[0m\n\u001b[1;32m      2\u001b[0m \u001b[0mprint\u001b[0m\u001b[0;34m(\u001b[0m\u001b[0msorted\u001b[0m\u001b[0;34m(\u001b[0m\u001b[0mCounter\u001b[0m\u001b[0;34m(\u001b[0m\u001b[0my_medal_sm_bl\u001b[0m\u001b[0;34m)\u001b[0m\u001b[0;34m.\u001b[0m\u001b[0mitems\u001b[0m\u001b[0;34m(\u001b[0m\u001b[0;34m)\u001b[0m\u001b[0;34m)\u001b[0m\u001b[0;34m)\u001b[0m\u001b[0;34m\u001b[0m\u001b[0;34m\u001b[0m\u001b[0m\n\u001b[1;32m      3\u001b[0m \u001b[0;34m\u001b[0m\u001b[0m\n\u001b[0;32m----> 4\u001b[0;31m \u001b[0mprint\u001b[0m\u001b[0;34m(\u001b[0m\u001b[0msorted\u001b[0m\u001b[0;34m(\u001b[0m\u001b[0mCounter\u001b[0m\u001b[0;34m(\u001b[0m\u001b[0my_medal\u001b[0m\u001b[0;34m)\u001b[0m\u001b[0;34m.\u001b[0m\u001b[0mitems\u001b[0m\u001b[0;34m(\u001b[0m\u001b[0;34m)\u001b[0m\u001b[0;34m)\u001b[0m\u001b[0;34m)\u001b[0m\u001b[0;34m\u001b[0m\u001b[0;34m\u001b[0m\u001b[0m\n\u001b[0m",
      "\u001b[0;31mTypeError\u001b[0m: '<' not supported between instances of 'str' and 'float'"
     ]
    }
   ],
   "source": [
    "from collections import Counter\n",
    "print(sorted(Counter(y_medal_sm_bl).items()))\n",
    "\n",
    "print(sorted(Counter(y_medal).items()))"
   ]
  },
  {
   "cell_type": "markdown",
   "id": "ed513e71",
   "metadata": {},
   "source": [
    "### SVMSMOTE Sampling"
   ]
  },
  {
   "cell_type": "code",
   "execution_count": null,
   "id": "f468de5c",
   "metadata": {
    "ExecuteTime": {
     "start_time": "2022-03-29T22:52:03.114Z"
    }
   },
   "outputs": [],
   "source": [
    "from imblearn.over_sampling import SVMSMOTE\n",
    "\n",
    "sm_svm = SVMSMOTE()\n",
    "\n",
    "X_medal_sm_svm , y_medal_sm_svm = sm_svm.fit_resample(df_smote,df_smote['Medal'])\n"
   ]
  },
  {
   "cell_type": "code",
   "execution_count": null,
   "id": "720e61a0",
   "metadata": {
    "ExecuteTime": {
     "start_time": "2022-03-29T22:52:03.823Z"
    }
   },
   "outputs": [],
   "source": [
    "from collections import Counter\n",
    "print(sorted(Counter(y_medal_sm_svm).items()))\n",
    "\n",
    "print(sorted(Counter(y_medal).items()))"
   ]
  },
  {
   "cell_type": "markdown",
   "id": "f73bf5a9",
   "metadata": {},
   "source": [
    "### Adaptive Synthetic Sampling (ADASYN)\n",
    "Another approach involves generating synthetic samples inversely proportional to the density of the examples in the minority class."
   ]
  },
  {
   "cell_type": "code",
   "execution_count": 34,
   "id": "820263ed",
   "metadata": {
    "ExecuteTime": {
     "end_time": "2022-03-29T22:59:21.431799Z",
     "start_time": "2022-03-29T22:59:19.473646Z"
    }
   },
   "outputs": [],
   "source": [
    "from imblearn.over_sampling import ADASYN\n",
    "sm_adasyn = ADASYN()\n",
    "X_Medal_sm_adasyn , y_medal_sm_adasyn = sm_adasyn.fit_resample(df_smote,df_smote['Sex'])"
   ]
  },
  {
   "cell_type": "code",
   "execution_count": 35,
   "id": "74db0104",
   "metadata": {
    "ExecuteTime": {
     "end_time": "2022-03-29T22:59:22.386546Z",
     "start_time": "2022-03-29T22:59:22.332228Z"
    }
   },
   "outputs": [
    {
     "name": "stdout",
     "output_type": "stream",
     "text": [
      "[(0, 139454), (1, 133659)]\n",
      "[('F', 66711), ('M', 139454)]\n"
     ]
    }
   ],
   "source": [
    "from collections import Counter\n",
    "print(sorted(Counter(y_medal_sm_adasyn).items()))\n",
    "\n",
    "print(sorted(Counter(y_sex).items()))"
   ]
  },
  {
   "cell_type": "markdown",
   "id": "a0c8bd00",
   "metadata": {},
   "source": [
    "### Combination of over- and under-sampling"
   ]
  },
  {
   "cell_type": "code",
   "execution_count": 36,
   "id": "df0136de",
   "metadata": {
    "ExecuteTime": {
     "end_time": "2022-03-29T22:59:50.927781Z",
     "start_time": "2022-03-29T22:59:28.607835Z"
    }
   },
   "outputs": [],
   "source": [
    "from imblearn.combine import SMOTEENN\n",
    "sm_enn = SMOTEENN(random_state=42)\n",
    "X_medal_sm_enn , y_medal_sm_enn = sm_enn.fit_resample(df_smote,df_smote['Medal'])\n",
    "\n",
    "from imblearn.combine import SMOTETomek\n",
    "sm_tomek = SMOTETomek(random_state=0)\n",
    "X_medal_sm_tomek , y_medal_sm_tomek = sm_tomek.fit_resample(df_smote,df_smote['Medal'])"
   ]
  },
  {
   "cell_type": "code",
   "execution_count": 37,
   "id": "c89a4197",
   "metadata": {
    "ExecuteTime": {
     "end_time": "2022-03-29T22:59:52.817232Z",
     "start_time": "2022-03-29T22:59:52.673476Z"
    }
   },
   "outputs": [
    {
     "name": "stdout",
     "output_type": "stream",
     "text": [
      "[(0, 154570), (1, 172312), (2, 173072), (3, 174208)]\n",
      "[(0, 175843), (1, 175843), (2, 175941), (3, 175959)]\n"
     ]
    },
    {
     "ename": "TypeError",
     "evalue": "'<' not supported between instances of 'str' and 'float'",
     "output_type": "error",
     "traceback": [
      "\u001b[0;31m---------------------------------------------------------------------------\u001b[0m",
      "\u001b[0;31mTypeError\u001b[0m                                 Traceback (most recent call last)",
      "\u001b[0;32m/var/folders/f6/82v5s4vs3_s9h4b3z9dzgkg00000gn/T/ipykernel_23428/613320070.py\u001b[0m in \u001b[0;36m<module>\u001b[0;34m\u001b[0m\n\u001b[1;32m      2\u001b[0m \u001b[0mprint\u001b[0m\u001b[0;34m(\u001b[0m\u001b[0msorted\u001b[0m\u001b[0;34m(\u001b[0m\u001b[0mCounter\u001b[0m\u001b[0;34m(\u001b[0m\u001b[0my_medal_sm_enn\u001b[0m\u001b[0;34m)\u001b[0m\u001b[0;34m.\u001b[0m\u001b[0mitems\u001b[0m\u001b[0;34m(\u001b[0m\u001b[0;34m)\u001b[0m\u001b[0;34m)\u001b[0m\u001b[0;34m)\u001b[0m\u001b[0;34m\u001b[0m\u001b[0;34m\u001b[0m\u001b[0m\n\u001b[1;32m      3\u001b[0m \u001b[0mprint\u001b[0m\u001b[0;34m(\u001b[0m\u001b[0msorted\u001b[0m\u001b[0;34m(\u001b[0m\u001b[0mCounter\u001b[0m\u001b[0;34m(\u001b[0m\u001b[0my_medal_sm_tomek\u001b[0m\u001b[0;34m)\u001b[0m\u001b[0;34m.\u001b[0m\u001b[0mitems\u001b[0m\u001b[0;34m(\u001b[0m\u001b[0;34m)\u001b[0m\u001b[0;34m)\u001b[0m\u001b[0;34m)\u001b[0m\u001b[0;34m\u001b[0m\u001b[0;34m\u001b[0m\u001b[0m\n\u001b[0;32m----> 4\u001b[0;31m \u001b[0mprint\u001b[0m\u001b[0;34m(\u001b[0m\u001b[0msorted\u001b[0m\u001b[0;34m(\u001b[0m\u001b[0mCounter\u001b[0m\u001b[0;34m(\u001b[0m\u001b[0my_medal\u001b[0m\u001b[0;34m)\u001b[0m\u001b[0;34m.\u001b[0m\u001b[0mitems\u001b[0m\u001b[0;34m(\u001b[0m\u001b[0;34m)\u001b[0m\u001b[0;34m)\u001b[0m\u001b[0;34m)\u001b[0m\u001b[0;34m\u001b[0m\u001b[0;34m\u001b[0m\u001b[0m\n\u001b[0m",
      "\u001b[0;31mTypeError\u001b[0m: '<' not supported between instances of 'str' and 'float'"
     ]
    }
   ],
   "source": [
    "from collections import Counter\n",
    "print(sorted(Counter(y_medal_sm_enn).items()))\n",
    "print(sorted(Counter(y_medal_sm_tomek).items()))\n",
    "print(sorted(Counter(y_medal).items()))"
   ]
  },
  {
   "cell_type": "markdown",
   "id": "6c4aa2c5",
   "metadata": {},
   "source": [
    "## ALLKNN sampling"
   ]
  },
  {
   "cell_type": "code",
   "execution_count": 38,
   "id": "0785d211",
   "metadata": {
    "ExecuteTime": {
     "end_time": "2022-03-29T22:59:59.026500Z",
     "start_time": "2022-03-29T22:59:56.632114Z"
    }
   },
   "outputs": [],
   "source": [
    "from imblearn.under_sampling import AllKNN\n",
    "allknn = AllKNN()\n",
    "X_allknn, y_allknn = allknn.fit_resample(df_smote,df_smote['Age'])"
   ]
  },
  {
   "cell_type": "code",
   "execution_count": 39,
   "id": "bae6766d",
   "metadata": {
    "ExecuteTime": {
     "end_time": "2022-03-29T22:59:59.297744Z",
     "start_time": "2022-03-29T22:59:59.274909Z"
    }
   },
   "outputs": [
    {
     "name": "stdout",
     "output_type": "stream",
     "text": [
      "[(11.0, 4), (12.0, 17), (13.0, 123), (14.0, 626), (15.0, 1675), (16.0, 2748), (17.0, 3583), (18.0, 5411), (19.0, 7489), (20.0, 9939), (21.0, 12751), (22.0, 13818), (23.0, 14700), (24.0, 14369), (25.0, 13203), (26.0, 11507), (27.0, 10361), (28.0, 9100), (29.0, 6977), (30.0, 5532), (31.0, 4196), (32.0, 3522), (33.0, 2487), (34.0, 1896), (35.0, 1331), (36.0, 1091), (37.0, 772), (38.0, 577), (39.0, 487), (40.0, 429), (41.0, 336), (42.0, 271), (43.0, 233), (44.0, 207), (45.0, 159), (46.0, 116), (47.0, 119), (48.0, 92), (49.0, 80), (50.0, 77), (51.0, 42), (52.0, 58), (53.0, 37), (54.0, 33), (55.0, 8), (56.0, 21), (57.0, 9), (58.0, 10), (59.0, 1), (60.0, 13), (61.0, 9), (62.0, 2), (63.0, 4), (64.0, 2), (65.0, 2), (66.0, 4), (67.0, 2), (68.0, 1), (69.0, 2), (70.0, 1)]\n"
     ]
    }
   ],
   "source": [
    "print(sorted(Counter(y_allknn).items()))"
   ]
  },
  {
   "cell_type": "markdown",
   "id": "b17272e4",
   "metadata": {},
   "source": [
    "## Reservoir sampling"
   ]
  },
  {
   "cell_type": "code",
   "execution_count": 41,
   "id": "1031b25e",
   "metadata": {
    "ExecuteTime": {
     "end_time": "2022-03-29T23:00:22.099089Z",
     "start_time": "2022-03-29T23:00:22.002607Z"
    }
   },
   "outputs": [
    {
     "data": {
      "text/html": [
       "<div>\n",
       "<style scoped>\n",
       "    .dataframe tbody tr th:only-of-type {\n",
       "        vertical-align: middle;\n",
       "    }\n",
       "\n",
       "    .dataframe tbody tr th {\n",
       "        vertical-align: top;\n",
       "    }\n",
       "\n",
       "    .dataframe thead th {\n",
       "        text-align: right;\n",
       "    }\n",
       "</style>\n",
       "<table border=\"1\" class=\"dataframe\">\n",
       "  <thead>\n",
       "    <tr style=\"text-align: right;\">\n",
       "      <th></th>\n",
       "      <th>ID</th>\n",
       "      <th>Name</th>\n",
       "      <th>Sex</th>\n",
       "      <th>Age</th>\n",
       "      <th>Height</th>\n",
       "      <th>Weight</th>\n",
       "      <th>Team</th>\n",
       "      <th>NOC</th>\n",
       "      <th>Games</th>\n",
       "      <th>Year</th>\n",
       "      <th>Season</th>\n",
       "      <th>City</th>\n",
       "      <th>Sport</th>\n",
       "      <th>Event</th>\n",
       "      <th>Medal</th>\n",
       "    </tr>\n",
       "  </thead>\n",
       "  <tbody>\n",
       "    <tr>\n",
       "      <th>226567</th>\n",
       "      <td>113862</td>\n",
       "      <td>Herbert Spindler</td>\n",
       "      <td>M</td>\n",
       "      <td>22.0</td>\n",
       "      <td>179.0</td>\n",
       "      <td>71.0</td>\n",
       "      <td>Austria</td>\n",
       "      <td>AUT</td>\n",
       "      <td>1976 Summer</td>\n",
       "      <td>1976</td>\n",
       "      <td>Summer</td>\n",
       "      <td>Montreal</td>\n",
       "      <td>Cycling</td>\n",
       "      <td>Cycling Men's Road Race, Individual</td>\n",
       "      <td>NaN</td>\n",
       "    </tr>\n",
       "    <tr>\n",
       "      <th>67477</th>\n",
       "      <td>34494</td>\n",
       "      <td>Ji Fejtek</td>\n",
       "      <td>M</td>\n",
       "      <td>22.0</td>\n",
       "      <td>168.0</td>\n",
       "      <td>61.0</td>\n",
       "      <td>Czechoslovakia</td>\n",
       "      <td>TCH</td>\n",
       "      <td>1968 Summer</td>\n",
       "      <td>1968</td>\n",
       "      <td>Summer</td>\n",
       "      <td>Mexico City</td>\n",
       "      <td>Gymnastics</td>\n",
       "      <td>Gymnastics Men's Horse Vault</td>\n",
       "      <td>NaN</td>\n",
       "    </tr>\n",
       "    <tr>\n",
       "      <th>270189</th>\n",
       "      <td>135167</td>\n",
       "      <td>Wadysaw Antoni muda</td>\n",
       "      <td>M</td>\n",
       "      <td>22.0</td>\n",
       "      <td>187.0</td>\n",
       "      <td>84.0</td>\n",
       "      <td>Poland</td>\n",
       "      <td>POL</td>\n",
       "      <td>1976 Summer</td>\n",
       "      <td>1976</td>\n",
       "      <td>Summer</td>\n",
       "      <td>Montreal</td>\n",
       "      <td>Football</td>\n",
       "      <td>Football Men's Football</td>\n",
       "      <td>Silver</td>\n",
       "    </tr>\n",
       "    <tr>\n",
       "      <th>110930</th>\n",
       "      <td>56123</td>\n",
       "      <td>Junker Daniel Jrgensen</td>\n",
       "      <td>M</td>\n",
       "      <td>26.0</td>\n",
       "      <td>177.0</td>\n",
       "      <td>71.0</td>\n",
       "      <td>Denmark</td>\n",
       "      <td>DEN</td>\n",
       "      <td>1972 Summer</td>\n",
       "      <td>1972</td>\n",
       "      <td>Summer</td>\n",
       "      <td>Munich</td>\n",
       "      <td>Cycling</td>\n",
       "      <td>Cycling Men's 100 kilometres Team Time Trial</td>\n",
       "      <td>NaN</td>\n",
       "    </tr>\n",
       "    <tr>\n",
       "      <th>34308</th>\n",
       "      <td>17682</td>\n",
       "      <td>Andrew \"Andy\" Campbell</td>\n",
       "      <td>M</td>\n",
       "      <td>28.0</td>\n",
       "      <td>218.0</td>\n",
       "      <td>93.0</td>\n",
       "      <td>Australia</td>\n",
       "      <td>AUS</td>\n",
       "      <td>1984 Summer</td>\n",
       "      <td>1984</td>\n",
       "      <td>Summer</td>\n",
       "      <td>Los Angeles</td>\n",
       "      <td>Basketball</td>\n",
       "      <td>Basketball Men's Basketball</td>\n",
       "      <td>NaN</td>\n",
       "    </tr>\n",
       "  </tbody>\n",
       "</table>\n",
       "</div>"
      ],
      "text/plain": [
       "            ID                    Name Sex   Age  Height  Weight  \\\n",
       "226567  113862        Herbert Spindler   M  22.0   179.0    71.0   \n",
       "67477    34494               Ji Fejtek   M  22.0   168.0    61.0   \n",
       "270189  135167     Wadysaw Antoni muda   M  22.0   187.0    84.0   \n",
       "110930   56123  Junker Daniel Jrgensen   M  26.0   177.0    71.0   \n",
       "34308    17682  Andrew \"Andy\" Campbell   M  28.0   218.0    93.0   \n",
       "\n",
       "                  Team  NOC        Games  Year  Season         City  \\\n",
       "226567         Austria  AUT  1976 Summer  1976  Summer     Montreal   \n",
       "67477   Czechoslovakia  TCH  1968 Summer  1968  Summer  Mexico City   \n",
       "270189          Poland  POL  1976 Summer  1976  Summer     Montreal   \n",
       "110930         Denmark  DEN  1972 Summer  1972  Summer       Munich   \n",
       "34308        Australia  AUS  1984 Summer  1984  Summer  Los Angeles   \n",
       "\n",
       "             Sport                                         Event   Medal  \n",
       "226567     Cycling           Cycling Men's Road Race, Individual     NaN  \n",
       "67477   Gymnastics                  Gymnastics Men's Horse Vault     NaN  \n",
       "270189    Football                       Football Men's Football  Silver  \n",
       "110930     Cycling  Cycling Men's 100 kilometres Team Time Trial     NaN  \n",
       "34308   Basketball                   Basketball Men's Basketball     NaN  "
      ]
     },
     "execution_count": 41,
     "metadata": {},
     "output_type": "execute_result"
    }
   ],
   "source": [
    "# we use the reservoir algorithm: \n",
    "def generator(max):\n",
    "    number = 1\n",
    "    while number < max:\n",
    "        number += 1\n",
    "        yield number\n",
    "        \n",
    "stream = generator(len(df))\n",
    "reservoir = []\n",
    "k= 250 # we want our sample to have a size of 250\n",
    "\n",
    "for i, element in enumerate(stream):\n",
    "    if i+1<= k:\n",
    "        reservoir.append(element)\n",
    "    else:\n",
    "        probability = k/(i+1)\n",
    "        if random.random() < probability:\n",
    "            # Select item in stream and remove one of the k items already selected\n",
    "             reservoir[random.choice(range(0,k))] = element\n",
    "\n",
    "df_reservoir = df.iloc[reservoir]\n",
    "\n",
    "df_reservoir.head(5)"
   ]
  },
  {
   "cell_type": "markdown",
   "id": "23729ef6",
   "metadata": {},
   "source": [
    "## Summury Statistics comparaison "
   ]
  },
  {
   "cell_type": "code",
   "execution_count": 42,
   "id": "947c3f0d",
   "metadata": {
    "ExecuteTime": {
     "end_time": "2022-03-29T23:00:24.842640Z",
     "start_time": "2022-03-29T23:00:24.837385Z"
    }
   },
   "outputs": [],
   "source": [
    "def side_by_side_df(df1, df2, title1, title2):\n",
    "\n",
    "    df1_styler = df1.style.set_table_attributes(\"style='display:inline'\").set_caption(title1)\n",
    "    df2_styler = df2.style.set_table_attributes(\"style='display:inline'\").set_caption(title2)\n",
    "    space = \"\\xa0\" * 10\n",
    "    display_html(df1_styler._repr_html_()+ space  + df2_styler._repr_html_(), raw=True)"
   ]
  },
  {
   "cell_type": "code",
   "execution_count": 43,
   "id": "69e9e352",
   "metadata": {
    "ExecuteTime": {
     "end_time": "2022-03-29T23:00:27.692980Z",
     "start_time": "2022-03-29T23:00:27.649835Z"
    }
   },
   "outputs": [
    {
     "data": {
      "text/html": [
       "<div>\n",
       "<style scoped>\n",
       "    .dataframe tbody tr th:only-of-type {\n",
       "        vertical-align: middle;\n",
       "    }\n",
       "\n",
       "    .dataframe tbody tr th {\n",
       "        vertical-align: top;\n",
       "    }\n",
       "\n",
       "    .dataframe thead th {\n",
       "        text-align: right;\n",
       "    }\n",
       "</style>\n",
       "<table border=\"1\" class=\"dataframe\">\n",
       "  <thead>\n",
       "    <tr style=\"text-align: right;\">\n",
       "      <th></th>\n",
       "      <th>Age</th>\n",
       "      <th>Height</th>\n",
       "      <th>Weight</th>\n",
       "    </tr>\n",
       "  </thead>\n",
       "  <tbody>\n",
       "    <tr>\n",
       "      <th>count</th>\n",
       "      <td>206165.00</td>\n",
       "      <td>206165.00</td>\n",
       "      <td>206165.00</td>\n",
       "    </tr>\n",
       "    <tr>\n",
       "      <th>mean</th>\n",
       "      <td>25.06</td>\n",
       "      <td>175.37</td>\n",
       "      <td>70.69</td>\n",
       "    </tr>\n",
       "    <tr>\n",
       "      <th>std</th>\n",
       "      <td>5.48</td>\n",
       "      <td>10.55</td>\n",
       "      <td>14.34</td>\n",
       "    </tr>\n",
       "    <tr>\n",
       "      <th>min</th>\n",
       "      <td>11.00</td>\n",
       "      <td>127.00</td>\n",
       "      <td>25.00</td>\n",
       "    </tr>\n",
       "    <tr>\n",
       "      <th>25%</th>\n",
       "      <td>21.00</td>\n",
       "      <td>168.00</td>\n",
       "      <td>60.00</td>\n",
       "    </tr>\n",
       "    <tr>\n",
       "      <th>50%</th>\n",
       "      <td>24.00</td>\n",
       "      <td>175.00</td>\n",
       "      <td>70.00</td>\n",
       "    </tr>\n",
       "    <tr>\n",
       "      <th>75%</th>\n",
       "      <td>28.00</td>\n",
       "      <td>183.00</td>\n",
       "      <td>79.00</td>\n",
       "    </tr>\n",
       "    <tr>\n",
       "      <th>max</th>\n",
       "      <td>71.00</td>\n",
       "      <td>226.00</td>\n",
       "      <td>214.00</td>\n",
       "    </tr>\n",
       "  </tbody>\n",
       "</table>\n",
       "</div>"
      ],
      "text/plain": [
       "             Age     Height     Weight\n",
       "count  206165.00  206165.00  206165.00\n",
       "mean       25.06     175.37      70.69\n",
       "std         5.48      10.55      14.34\n",
       "min        11.00     127.00      25.00\n",
       "25%        21.00     168.00      60.00\n",
       "50%        24.00     175.00      70.00\n",
       "75%        28.00     183.00      79.00\n",
       "max        71.00     226.00     214.00"
      ]
     },
     "execution_count": 43,
     "metadata": {},
     "output_type": "execute_result"
    }
   ],
   "source": [
    "df_describe = df[['Age', 'Height', 'Weight']].describe().round(2)\n",
    "df_describe"
   ]
  },
  {
   "cell_type": "markdown",
   "id": "926ab1c7",
   "metadata": {},
   "source": [
    "### Simple Random Sampling"
   ]
  },
  {
   "cell_type": "code",
   "execution_count": 44,
   "id": "ccc37016",
   "metadata": {
    "ExecuteTime": {
     "end_time": "2022-03-29T23:00:29.602908Z",
     "start_time": "2022-03-29T23:00:29.517928Z"
    }
   },
   "outputs": [
    {
     "data": {
      "text/html": [
       "<style type=\"text/css\">\n",
       "</style>\n",
       "<table id=\"T_b49c8_\" style='display:inline'>\n",
       "  <caption>df_describe</caption>\n",
       "  <thead>\n",
       "    <tr>\n",
       "      <th class=\"blank level0\" >&nbsp;</th>\n",
       "      <th class=\"col_heading level0 col0\" >Age</th>\n",
       "      <th class=\"col_heading level0 col1\" >Height</th>\n",
       "      <th class=\"col_heading level0 col2\" >Weight</th>\n",
       "    </tr>\n",
       "  </thead>\n",
       "  <tbody>\n",
       "    <tr>\n",
       "      <th id=\"T_b49c8_level0_row0\" class=\"row_heading level0 row0\" >count</th>\n",
       "      <td id=\"T_b49c8_row0_col0\" class=\"data row0 col0\" >206165.000000</td>\n",
       "      <td id=\"T_b49c8_row0_col1\" class=\"data row0 col1\" >206165.000000</td>\n",
       "      <td id=\"T_b49c8_row0_col2\" class=\"data row0 col2\" >206165.000000</td>\n",
       "    </tr>\n",
       "    <tr>\n",
       "      <th id=\"T_b49c8_level0_row1\" class=\"row_heading level0 row1\" >mean</th>\n",
       "      <td id=\"T_b49c8_row1_col0\" class=\"data row1 col0\" >25.060000</td>\n",
       "      <td id=\"T_b49c8_row1_col1\" class=\"data row1 col1\" >175.370000</td>\n",
       "      <td id=\"T_b49c8_row1_col2\" class=\"data row1 col2\" >70.690000</td>\n",
       "    </tr>\n",
       "    <tr>\n",
       "      <th id=\"T_b49c8_level0_row2\" class=\"row_heading level0 row2\" >std</th>\n",
       "      <td id=\"T_b49c8_row2_col0\" class=\"data row2 col0\" >5.480000</td>\n",
       "      <td id=\"T_b49c8_row2_col1\" class=\"data row2 col1\" >10.550000</td>\n",
       "      <td id=\"T_b49c8_row2_col2\" class=\"data row2 col2\" >14.340000</td>\n",
       "    </tr>\n",
       "    <tr>\n",
       "      <th id=\"T_b49c8_level0_row3\" class=\"row_heading level0 row3\" >min</th>\n",
       "      <td id=\"T_b49c8_row3_col0\" class=\"data row3 col0\" >11.000000</td>\n",
       "      <td id=\"T_b49c8_row3_col1\" class=\"data row3 col1\" >127.000000</td>\n",
       "      <td id=\"T_b49c8_row3_col2\" class=\"data row3 col2\" >25.000000</td>\n",
       "    </tr>\n",
       "    <tr>\n",
       "      <th id=\"T_b49c8_level0_row4\" class=\"row_heading level0 row4\" >25%</th>\n",
       "      <td id=\"T_b49c8_row4_col0\" class=\"data row4 col0\" >21.000000</td>\n",
       "      <td id=\"T_b49c8_row4_col1\" class=\"data row4 col1\" >168.000000</td>\n",
       "      <td id=\"T_b49c8_row4_col2\" class=\"data row4 col2\" >60.000000</td>\n",
       "    </tr>\n",
       "    <tr>\n",
       "      <th id=\"T_b49c8_level0_row5\" class=\"row_heading level0 row5\" >50%</th>\n",
       "      <td id=\"T_b49c8_row5_col0\" class=\"data row5 col0\" >24.000000</td>\n",
       "      <td id=\"T_b49c8_row5_col1\" class=\"data row5 col1\" >175.000000</td>\n",
       "      <td id=\"T_b49c8_row5_col2\" class=\"data row5 col2\" >70.000000</td>\n",
       "    </tr>\n",
       "    <tr>\n",
       "      <th id=\"T_b49c8_level0_row6\" class=\"row_heading level0 row6\" >75%</th>\n",
       "      <td id=\"T_b49c8_row6_col0\" class=\"data row6 col0\" >28.000000</td>\n",
       "      <td id=\"T_b49c8_row6_col1\" class=\"data row6 col1\" >183.000000</td>\n",
       "      <td id=\"T_b49c8_row6_col2\" class=\"data row6 col2\" >79.000000</td>\n",
       "    </tr>\n",
       "    <tr>\n",
       "      <th id=\"T_b49c8_level0_row7\" class=\"row_heading level0 row7\" >max</th>\n",
       "      <td id=\"T_b49c8_row7_col0\" class=\"data row7 col0\" >71.000000</td>\n",
       "      <td id=\"T_b49c8_row7_col1\" class=\"data row7 col1\" >226.000000</td>\n",
       "      <td id=\"T_b49c8_row7_col2\" class=\"data row7 col2\" >214.000000</td>\n",
       "    </tr>\n",
       "  </tbody>\n",
       "</table>\n",
       "          <style type=\"text/css\">\n",
       "</style>\n",
       "<table id=\"T_d122c_\" style='display:inline'>\n",
       "  <caption>simple_random_sample_describe</caption>\n",
       "  <thead>\n",
       "    <tr>\n",
       "      <th class=\"blank level0\" >&nbsp;</th>\n",
       "      <th class=\"col_heading level0 col0\" >Age</th>\n",
       "      <th class=\"col_heading level0 col1\" >Height</th>\n",
       "      <th class=\"col_heading level0 col2\" >Weight</th>\n",
       "    </tr>\n",
       "  </thead>\n",
       "  <tbody>\n",
       "    <tr>\n",
       "      <th id=\"T_d122c_level0_row0\" class=\"row_heading level0 row0\" >count</th>\n",
       "      <td id=\"T_d122c_row0_col0\" class=\"data row0 col0\" >4.000000</td>\n",
       "      <td id=\"T_d122c_row0_col1\" class=\"data row0 col1\" >4.000000</td>\n",
       "      <td id=\"T_d122c_row0_col2\" class=\"data row0 col2\" >4.000000</td>\n",
       "    </tr>\n",
       "    <tr>\n",
       "      <th id=\"T_d122c_level0_row1\" class=\"row_heading level0 row1\" >mean</th>\n",
       "      <td id=\"T_d122c_row1_col0\" class=\"data row1 col0\" >23.750000</td>\n",
       "      <td id=\"T_d122c_row1_col1\" class=\"data row1 col1\" >174.000000</td>\n",
       "      <td id=\"T_d122c_row1_col2\" class=\"data row1 col2\" >71.750000</td>\n",
       "    </tr>\n",
       "    <tr>\n",
       "      <th id=\"T_d122c_level0_row2\" class=\"row_heading level0 row2\" >std</th>\n",
       "      <td id=\"T_d122c_row2_col0\" class=\"data row2 col0\" >1.710000</td>\n",
       "      <td id=\"T_d122c_row2_col1\" class=\"data row2 col1\" >11.660000</td>\n",
       "      <td id=\"T_d122c_row2_col2\" class=\"data row2 col2\" >14.220000</td>\n",
       "    </tr>\n",
       "    <tr>\n",
       "      <th id=\"T_d122c_level0_row3\" class=\"row_heading level0 row3\" >min</th>\n",
       "      <td id=\"T_d122c_row3_col0\" class=\"data row3 col0\" >22.000000</td>\n",
       "      <td id=\"T_d122c_row3_col1\" class=\"data row3 col1\" >162.000000</td>\n",
       "      <td id=\"T_d122c_row3_col2\" class=\"data row3 col2\" >57.000000</td>\n",
       "    </tr>\n",
       "    <tr>\n",
       "      <th id=\"T_d122c_level0_row4\" class=\"row_heading level0 row4\" >25%</th>\n",
       "      <td id=\"T_d122c_row4_col0\" class=\"data row4 col0\" >22.750000</td>\n",
       "      <td id=\"T_d122c_row4_col1\" class=\"data row4 col1\" >169.500000</td>\n",
       "      <td id=\"T_d122c_row4_col2\" class=\"data row4 col2\" >63.000000</td>\n",
       "    </tr>\n",
       "    <tr>\n",
       "      <th id=\"T_d122c_level0_row5\" class=\"row_heading level0 row5\" >50%</th>\n",
       "      <td id=\"T_d122c_row5_col0\" class=\"data row5 col0\" >23.500000</td>\n",
       "      <td id=\"T_d122c_row5_col1\" class=\"data row5 col1\" >172.000000</td>\n",
       "      <td id=\"T_d122c_row5_col2\" class=\"data row5 col2\" >70.000000</td>\n",
       "    </tr>\n",
       "    <tr>\n",
       "      <th id=\"T_d122c_level0_row6\" class=\"row_heading level0 row6\" >75%</th>\n",
       "      <td id=\"T_d122c_row6_col0\" class=\"data row6 col0\" >24.500000</td>\n",
       "      <td id=\"T_d122c_row6_col1\" class=\"data row6 col1\" >176.500000</td>\n",
       "      <td id=\"T_d122c_row6_col2\" class=\"data row6 col2\" >78.750000</td>\n",
       "    </tr>\n",
       "    <tr>\n",
       "      <th id=\"T_d122c_level0_row7\" class=\"row_heading level0 row7\" >max</th>\n",
       "      <td id=\"T_d122c_row7_col0\" class=\"data row7 col0\" >26.000000</td>\n",
       "      <td id=\"T_d122c_row7_col1\" class=\"data row7 col1\" >190.000000</td>\n",
       "      <td id=\"T_d122c_row7_col2\" class=\"data row7 col2\" >90.000000</td>\n",
       "    </tr>\n",
       "  </tbody>\n",
       "</table>\n"
      ]
     },
     "metadata": {},
     "output_type": "display_data"
    }
   ],
   "source": [
    "simple_random_sample_describe = simple_random_sample[['Age', 'Height', 'Weight']].describe().round(2)\n",
    "\n",
    "title1 = 'df_describe'\n",
    "title2 = 'simple_random_sample_describe'\n",
    "side_by_side_df(df_describe, simple_random_sample_describe,title1, title2)"
   ]
  },
  {
   "cell_type": "markdown",
   "id": "a652c090",
   "metadata": {},
   "source": [
    "### Random under sampling"
   ]
  },
  {
   "cell_type": "code",
   "execution_count": 45,
   "id": "4e152ca4",
   "metadata": {
    "ExecuteTime": {
     "end_time": "2022-03-29T23:00:30.573026Z",
     "start_time": "2022-03-29T23:00:30.530873Z"
    }
   },
   "outputs": [
    {
     "data": {
      "text/html": [
       "<style type=\"text/css\">\n",
       "</style>\n",
       "<table id=\"T_1c457_\" style='display:inline'>\n",
       "  <caption>df_describe</caption>\n",
       "  <thead>\n",
       "    <tr>\n",
       "      <th class=\"blank level0\" >&nbsp;</th>\n",
       "      <th class=\"col_heading level0 col0\" >Age</th>\n",
       "      <th class=\"col_heading level0 col1\" >Height</th>\n",
       "      <th class=\"col_heading level0 col2\" >Weight</th>\n",
       "    </tr>\n",
       "  </thead>\n",
       "  <tbody>\n",
       "    <tr>\n",
       "      <th id=\"T_1c457_level0_row0\" class=\"row_heading level0 row0\" >count</th>\n",
       "      <td id=\"T_1c457_row0_col0\" class=\"data row0 col0\" >206165.000000</td>\n",
       "      <td id=\"T_1c457_row0_col1\" class=\"data row0 col1\" >206165.000000</td>\n",
       "      <td id=\"T_1c457_row0_col2\" class=\"data row0 col2\" >206165.000000</td>\n",
       "    </tr>\n",
       "    <tr>\n",
       "      <th id=\"T_1c457_level0_row1\" class=\"row_heading level0 row1\" >mean</th>\n",
       "      <td id=\"T_1c457_row1_col0\" class=\"data row1 col0\" >25.060000</td>\n",
       "      <td id=\"T_1c457_row1_col1\" class=\"data row1 col1\" >175.370000</td>\n",
       "      <td id=\"T_1c457_row1_col2\" class=\"data row1 col2\" >70.690000</td>\n",
       "    </tr>\n",
       "    <tr>\n",
       "      <th id=\"T_1c457_level0_row2\" class=\"row_heading level0 row2\" >std</th>\n",
       "      <td id=\"T_1c457_row2_col0\" class=\"data row2 col0\" >5.480000</td>\n",
       "      <td id=\"T_1c457_row2_col1\" class=\"data row2 col1\" >10.550000</td>\n",
       "      <td id=\"T_1c457_row2_col2\" class=\"data row2 col2\" >14.340000</td>\n",
       "    </tr>\n",
       "    <tr>\n",
       "      <th id=\"T_1c457_level0_row3\" class=\"row_heading level0 row3\" >min</th>\n",
       "      <td id=\"T_1c457_row3_col0\" class=\"data row3 col0\" >11.000000</td>\n",
       "      <td id=\"T_1c457_row3_col1\" class=\"data row3 col1\" >127.000000</td>\n",
       "      <td id=\"T_1c457_row3_col2\" class=\"data row3 col2\" >25.000000</td>\n",
       "    </tr>\n",
       "    <tr>\n",
       "      <th id=\"T_1c457_level0_row4\" class=\"row_heading level0 row4\" >25%</th>\n",
       "      <td id=\"T_1c457_row4_col0\" class=\"data row4 col0\" >21.000000</td>\n",
       "      <td id=\"T_1c457_row4_col1\" class=\"data row4 col1\" >168.000000</td>\n",
       "      <td id=\"T_1c457_row4_col2\" class=\"data row4 col2\" >60.000000</td>\n",
       "    </tr>\n",
       "    <tr>\n",
       "      <th id=\"T_1c457_level0_row5\" class=\"row_heading level0 row5\" >50%</th>\n",
       "      <td id=\"T_1c457_row5_col0\" class=\"data row5 col0\" >24.000000</td>\n",
       "      <td id=\"T_1c457_row5_col1\" class=\"data row5 col1\" >175.000000</td>\n",
       "      <td id=\"T_1c457_row5_col2\" class=\"data row5 col2\" >70.000000</td>\n",
       "    </tr>\n",
       "    <tr>\n",
       "      <th id=\"T_1c457_level0_row6\" class=\"row_heading level0 row6\" >75%</th>\n",
       "      <td id=\"T_1c457_row6_col0\" class=\"data row6 col0\" >28.000000</td>\n",
       "      <td id=\"T_1c457_row6_col1\" class=\"data row6 col1\" >183.000000</td>\n",
       "      <td id=\"T_1c457_row6_col2\" class=\"data row6 col2\" >79.000000</td>\n",
       "    </tr>\n",
       "    <tr>\n",
       "      <th id=\"T_1c457_level0_row7\" class=\"row_heading level0 row7\" >max</th>\n",
       "      <td id=\"T_1c457_row7_col0\" class=\"data row7 col0\" >71.000000</td>\n",
       "      <td id=\"T_1c457_row7_col1\" class=\"data row7 col1\" >226.000000</td>\n",
       "      <td id=\"T_1c457_row7_col2\" class=\"data row7 col2\" >214.000000</td>\n",
       "    </tr>\n",
       "  </tbody>\n",
       "</table>\n",
       "          <style type=\"text/css\">\n",
       "</style>\n",
       "<table id=\"T_aa375_\" style='display:inline'>\n",
       "  <caption>simple_random_sample_describe</caption>\n",
       "  <thead>\n",
       "    <tr>\n",
       "      <th class=\"blank level0\" >&nbsp;</th>\n",
       "      <th class=\"col_heading level0 col0\" >Age</th>\n",
       "      <th class=\"col_heading level0 col1\" >Height</th>\n",
       "      <th class=\"col_heading level0 col2\" >Weight</th>\n",
       "    </tr>\n",
       "  </thead>\n",
       "  <tbody>\n",
       "    <tr>\n",
       "      <th id=\"T_aa375_level0_row0\" class=\"row_heading level0 row0\" >count</th>\n",
       "      <td id=\"T_aa375_row0_col0\" class=\"data row0 col0\" >4.000000</td>\n",
       "      <td id=\"T_aa375_row0_col1\" class=\"data row0 col1\" >4.000000</td>\n",
       "      <td id=\"T_aa375_row0_col2\" class=\"data row0 col2\" >4.000000</td>\n",
       "    </tr>\n",
       "    <tr>\n",
       "      <th id=\"T_aa375_level0_row1\" class=\"row_heading level0 row1\" >mean</th>\n",
       "      <td id=\"T_aa375_row1_col0\" class=\"data row1 col0\" >23.750000</td>\n",
       "      <td id=\"T_aa375_row1_col1\" class=\"data row1 col1\" >174.000000</td>\n",
       "      <td id=\"T_aa375_row1_col2\" class=\"data row1 col2\" >71.750000</td>\n",
       "    </tr>\n",
       "    <tr>\n",
       "      <th id=\"T_aa375_level0_row2\" class=\"row_heading level0 row2\" >std</th>\n",
       "      <td id=\"T_aa375_row2_col0\" class=\"data row2 col0\" >1.710000</td>\n",
       "      <td id=\"T_aa375_row2_col1\" class=\"data row2 col1\" >11.660000</td>\n",
       "      <td id=\"T_aa375_row2_col2\" class=\"data row2 col2\" >14.220000</td>\n",
       "    </tr>\n",
       "    <tr>\n",
       "      <th id=\"T_aa375_level0_row3\" class=\"row_heading level0 row3\" >min</th>\n",
       "      <td id=\"T_aa375_row3_col0\" class=\"data row3 col0\" >22.000000</td>\n",
       "      <td id=\"T_aa375_row3_col1\" class=\"data row3 col1\" >162.000000</td>\n",
       "      <td id=\"T_aa375_row3_col2\" class=\"data row3 col2\" >57.000000</td>\n",
       "    </tr>\n",
       "    <tr>\n",
       "      <th id=\"T_aa375_level0_row4\" class=\"row_heading level0 row4\" >25%</th>\n",
       "      <td id=\"T_aa375_row4_col0\" class=\"data row4 col0\" >22.750000</td>\n",
       "      <td id=\"T_aa375_row4_col1\" class=\"data row4 col1\" >169.500000</td>\n",
       "      <td id=\"T_aa375_row4_col2\" class=\"data row4 col2\" >63.000000</td>\n",
       "    </tr>\n",
       "    <tr>\n",
       "      <th id=\"T_aa375_level0_row5\" class=\"row_heading level0 row5\" >50%</th>\n",
       "      <td id=\"T_aa375_row5_col0\" class=\"data row5 col0\" >23.500000</td>\n",
       "      <td id=\"T_aa375_row5_col1\" class=\"data row5 col1\" >172.000000</td>\n",
       "      <td id=\"T_aa375_row5_col2\" class=\"data row5 col2\" >70.000000</td>\n",
       "    </tr>\n",
       "    <tr>\n",
       "      <th id=\"T_aa375_level0_row6\" class=\"row_heading level0 row6\" >75%</th>\n",
       "      <td id=\"T_aa375_row6_col0\" class=\"data row6 col0\" >24.500000</td>\n",
       "      <td id=\"T_aa375_row6_col1\" class=\"data row6 col1\" >176.500000</td>\n",
       "      <td id=\"T_aa375_row6_col2\" class=\"data row6 col2\" >78.750000</td>\n",
       "    </tr>\n",
       "    <tr>\n",
       "      <th id=\"T_aa375_level0_row7\" class=\"row_heading level0 row7\" >max</th>\n",
       "      <td id=\"T_aa375_row7_col0\" class=\"data row7 col0\" >26.000000</td>\n",
       "      <td id=\"T_aa375_row7_col1\" class=\"data row7 col1\" >190.000000</td>\n",
       "      <td id=\"T_aa375_row7_col2\" class=\"data row7 col2\" >90.000000</td>\n",
       "    </tr>\n",
       "  </tbody>\n",
       "</table>\n"
      ]
     },
     "metadata": {},
     "output_type": "display_data"
    }
   ],
   "source": [
    "\n",
    "X_season_rus_describe = X_season_rus[['Age', 'Height', 'Weight']].describe().round(2)\n",
    "\n",
    "title1 = 'df_describe'\n",
    "title2 = 'simple_random_sample_describe'\n",
    "side_by_side_df(df_describe, simple_random_sample_describe,title1, title2)"
   ]
  },
  {
   "cell_type": "markdown",
   "id": "58dfd202",
   "metadata": {},
   "source": [
    "### Random over Sampling"
   ]
  },
  {
   "cell_type": "code",
   "execution_count": 46,
   "id": "8664db4d",
   "metadata": {
    "ExecuteTime": {
     "end_time": "2022-03-29T23:00:31.509872Z",
     "start_time": "2022-03-29T23:00:31.428802Z"
    }
   },
   "outputs": [
    {
     "data": {
      "text/html": [
       "<style type=\"text/css\">\n",
       "</style>\n",
       "<table id=\"T_effe0_\" style='display:inline'>\n",
       "  <caption>df_describe</caption>\n",
       "  <thead>\n",
       "    <tr>\n",
       "      <th class=\"blank level0\" >&nbsp;</th>\n",
       "      <th class=\"col_heading level0 col0\" >Age</th>\n",
       "      <th class=\"col_heading level0 col1\" >Height</th>\n",
       "      <th class=\"col_heading level0 col2\" >Weight</th>\n",
       "    </tr>\n",
       "  </thead>\n",
       "  <tbody>\n",
       "    <tr>\n",
       "      <th id=\"T_effe0_level0_row0\" class=\"row_heading level0 row0\" >count</th>\n",
       "      <td id=\"T_effe0_row0_col0\" class=\"data row0 col0\" >206165.000000</td>\n",
       "      <td id=\"T_effe0_row0_col1\" class=\"data row0 col1\" >206165.000000</td>\n",
       "      <td id=\"T_effe0_row0_col2\" class=\"data row0 col2\" >206165.000000</td>\n",
       "    </tr>\n",
       "    <tr>\n",
       "      <th id=\"T_effe0_level0_row1\" class=\"row_heading level0 row1\" >mean</th>\n",
       "      <td id=\"T_effe0_row1_col0\" class=\"data row1 col0\" >25.060000</td>\n",
       "      <td id=\"T_effe0_row1_col1\" class=\"data row1 col1\" >175.370000</td>\n",
       "      <td id=\"T_effe0_row1_col2\" class=\"data row1 col2\" >70.690000</td>\n",
       "    </tr>\n",
       "    <tr>\n",
       "      <th id=\"T_effe0_level0_row2\" class=\"row_heading level0 row2\" >std</th>\n",
       "      <td id=\"T_effe0_row2_col0\" class=\"data row2 col0\" >5.480000</td>\n",
       "      <td id=\"T_effe0_row2_col1\" class=\"data row2 col1\" >10.550000</td>\n",
       "      <td id=\"T_effe0_row2_col2\" class=\"data row2 col2\" >14.340000</td>\n",
       "    </tr>\n",
       "    <tr>\n",
       "      <th id=\"T_effe0_level0_row3\" class=\"row_heading level0 row3\" >min</th>\n",
       "      <td id=\"T_effe0_row3_col0\" class=\"data row3 col0\" >11.000000</td>\n",
       "      <td id=\"T_effe0_row3_col1\" class=\"data row3 col1\" >127.000000</td>\n",
       "      <td id=\"T_effe0_row3_col2\" class=\"data row3 col2\" >25.000000</td>\n",
       "    </tr>\n",
       "    <tr>\n",
       "      <th id=\"T_effe0_level0_row4\" class=\"row_heading level0 row4\" >25%</th>\n",
       "      <td id=\"T_effe0_row4_col0\" class=\"data row4 col0\" >21.000000</td>\n",
       "      <td id=\"T_effe0_row4_col1\" class=\"data row4 col1\" >168.000000</td>\n",
       "      <td id=\"T_effe0_row4_col2\" class=\"data row4 col2\" >60.000000</td>\n",
       "    </tr>\n",
       "    <tr>\n",
       "      <th id=\"T_effe0_level0_row5\" class=\"row_heading level0 row5\" >50%</th>\n",
       "      <td id=\"T_effe0_row5_col0\" class=\"data row5 col0\" >24.000000</td>\n",
       "      <td id=\"T_effe0_row5_col1\" class=\"data row5 col1\" >175.000000</td>\n",
       "      <td id=\"T_effe0_row5_col2\" class=\"data row5 col2\" >70.000000</td>\n",
       "    </tr>\n",
       "    <tr>\n",
       "      <th id=\"T_effe0_level0_row6\" class=\"row_heading level0 row6\" >75%</th>\n",
       "      <td id=\"T_effe0_row6_col0\" class=\"data row6 col0\" >28.000000</td>\n",
       "      <td id=\"T_effe0_row6_col1\" class=\"data row6 col1\" >183.000000</td>\n",
       "      <td id=\"T_effe0_row6_col2\" class=\"data row6 col2\" >79.000000</td>\n",
       "    </tr>\n",
       "    <tr>\n",
       "      <th id=\"T_effe0_level0_row7\" class=\"row_heading level0 row7\" >max</th>\n",
       "      <td id=\"T_effe0_row7_col0\" class=\"data row7 col0\" >71.000000</td>\n",
       "      <td id=\"T_effe0_row7_col1\" class=\"data row7 col1\" >226.000000</td>\n",
       "      <td id=\"T_effe0_row7_col2\" class=\"data row7 col2\" >214.000000</td>\n",
       "    </tr>\n",
       "  </tbody>\n",
       "</table>\n",
       "          <style type=\"text/css\">\n",
       "</style>\n",
       "<table id=\"T_57d0a_\" style='display:inline'>\n",
       "  <caption>Random over sample describe</caption>\n",
       "  <thead>\n",
       "    <tr>\n",
       "      <th class=\"blank level0\" >&nbsp;</th>\n",
       "      <th class=\"col_heading level0 col0\" >Age</th>\n",
       "      <th class=\"col_heading level0 col1\" >Height</th>\n",
       "      <th class=\"col_heading level0 col2\" >Weight</th>\n",
       "    </tr>\n",
       "  </thead>\n",
       "  <tbody>\n",
       "    <tr>\n",
       "      <th id=\"T_57d0a_level0_row0\" class=\"row_heading level0 row0\" >count</th>\n",
       "      <td id=\"T_57d0a_row0_col0\" class=\"data row0 col0\" >4.000000</td>\n",
       "      <td id=\"T_57d0a_row0_col1\" class=\"data row0 col1\" >4.000000</td>\n",
       "      <td id=\"T_57d0a_row0_col2\" class=\"data row0 col2\" >4.000000</td>\n",
       "    </tr>\n",
       "    <tr>\n",
       "      <th id=\"T_57d0a_level0_row1\" class=\"row_heading level0 row1\" >mean</th>\n",
       "      <td id=\"T_57d0a_row1_col0\" class=\"data row1 col0\" >23.750000</td>\n",
       "      <td id=\"T_57d0a_row1_col1\" class=\"data row1 col1\" >174.000000</td>\n",
       "      <td id=\"T_57d0a_row1_col2\" class=\"data row1 col2\" >71.750000</td>\n",
       "    </tr>\n",
       "    <tr>\n",
       "      <th id=\"T_57d0a_level0_row2\" class=\"row_heading level0 row2\" >std</th>\n",
       "      <td id=\"T_57d0a_row2_col0\" class=\"data row2 col0\" >1.710000</td>\n",
       "      <td id=\"T_57d0a_row2_col1\" class=\"data row2 col1\" >11.660000</td>\n",
       "      <td id=\"T_57d0a_row2_col2\" class=\"data row2 col2\" >14.220000</td>\n",
       "    </tr>\n",
       "    <tr>\n",
       "      <th id=\"T_57d0a_level0_row3\" class=\"row_heading level0 row3\" >min</th>\n",
       "      <td id=\"T_57d0a_row3_col0\" class=\"data row3 col0\" >22.000000</td>\n",
       "      <td id=\"T_57d0a_row3_col1\" class=\"data row3 col1\" >162.000000</td>\n",
       "      <td id=\"T_57d0a_row3_col2\" class=\"data row3 col2\" >57.000000</td>\n",
       "    </tr>\n",
       "    <tr>\n",
       "      <th id=\"T_57d0a_level0_row4\" class=\"row_heading level0 row4\" >25%</th>\n",
       "      <td id=\"T_57d0a_row4_col0\" class=\"data row4 col0\" >22.750000</td>\n",
       "      <td id=\"T_57d0a_row4_col1\" class=\"data row4 col1\" >169.500000</td>\n",
       "      <td id=\"T_57d0a_row4_col2\" class=\"data row4 col2\" >63.000000</td>\n",
       "    </tr>\n",
       "    <tr>\n",
       "      <th id=\"T_57d0a_level0_row5\" class=\"row_heading level0 row5\" >50%</th>\n",
       "      <td id=\"T_57d0a_row5_col0\" class=\"data row5 col0\" >23.500000</td>\n",
       "      <td id=\"T_57d0a_row5_col1\" class=\"data row5 col1\" >172.000000</td>\n",
       "      <td id=\"T_57d0a_row5_col2\" class=\"data row5 col2\" >70.000000</td>\n",
       "    </tr>\n",
       "    <tr>\n",
       "      <th id=\"T_57d0a_level0_row6\" class=\"row_heading level0 row6\" >75%</th>\n",
       "      <td id=\"T_57d0a_row6_col0\" class=\"data row6 col0\" >24.500000</td>\n",
       "      <td id=\"T_57d0a_row6_col1\" class=\"data row6 col1\" >176.500000</td>\n",
       "      <td id=\"T_57d0a_row6_col2\" class=\"data row6 col2\" >78.750000</td>\n",
       "    </tr>\n",
       "    <tr>\n",
       "      <th id=\"T_57d0a_level0_row7\" class=\"row_heading level0 row7\" >max</th>\n",
       "      <td id=\"T_57d0a_row7_col0\" class=\"data row7 col0\" >26.000000</td>\n",
       "      <td id=\"T_57d0a_row7_col1\" class=\"data row7 col1\" >190.000000</td>\n",
       "      <td id=\"T_57d0a_row7_col2\" class=\"data row7 col2\" >90.000000</td>\n",
       "    </tr>\n",
       "  </tbody>\n",
       "</table>\n"
      ]
     },
     "metadata": {},
     "output_type": "display_data"
    }
   ],
   "source": [
    "X_sex_ros_describe = X_sex_ros[['Age', 'Height', 'Weight']].describe().round(2)\n",
    "\n",
    "title1 = 'df_describe'\n",
    "title2 = 'Random over sample describe'\n",
    "side_by_side_df(df_describe, simple_random_sample_describe,title1, title2)"
   ]
  },
  {
   "cell_type": "markdown",
   "id": "be02dbd9",
   "metadata": {},
   "source": [
    "### Systematic Sampling"
   ]
  },
  {
   "cell_type": "code",
   "execution_count": 47,
   "id": "5c94ac5c",
   "metadata": {
    "ExecuteTime": {
     "end_time": "2022-03-29T23:00:32.192103Z",
     "start_time": "2022-03-29T23:00:32.162839Z"
    }
   },
   "outputs": [
    {
     "data": {
      "text/html": [
       "<style type=\"text/css\">\n",
       "</style>\n",
       "<table id=\"T_5748d_\" style='display:inline'>\n",
       "  <caption>df_describe</caption>\n",
       "  <thead>\n",
       "    <tr>\n",
       "      <th class=\"blank level0\" >&nbsp;</th>\n",
       "      <th class=\"col_heading level0 col0\" >Age</th>\n",
       "      <th class=\"col_heading level0 col1\" >Height</th>\n",
       "      <th class=\"col_heading level0 col2\" >Weight</th>\n",
       "    </tr>\n",
       "  </thead>\n",
       "  <tbody>\n",
       "    <tr>\n",
       "      <th id=\"T_5748d_level0_row0\" class=\"row_heading level0 row0\" >count</th>\n",
       "      <td id=\"T_5748d_row0_col0\" class=\"data row0 col0\" >206165.000000</td>\n",
       "      <td id=\"T_5748d_row0_col1\" class=\"data row0 col1\" >206165.000000</td>\n",
       "      <td id=\"T_5748d_row0_col2\" class=\"data row0 col2\" >206165.000000</td>\n",
       "    </tr>\n",
       "    <tr>\n",
       "      <th id=\"T_5748d_level0_row1\" class=\"row_heading level0 row1\" >mean</th>\n",
       "      <td id=\"T_5748d_row1_col0\" class=\"data row1 col0\" >25.060000</td>\n",
       "      <td id=\"T_5748d_row1_col1\" class=\"data row1 col1\" >175.370000</td>\n",
       "      <td id=\"T_5748d_row1_col2\" class=\"data row1 col2\" >70.690000</td>\n",
       "    </tr>\n",
       "    <tr>\n",
       "      <th id=\"T_5748d_level0_row2\" class=\"row_heading level0 row2\" >std</th>\n",
       "      <td id=\"T_5748d_row2_col0\" class=\"data row2 col0\" >5.480000</td>\n",
       "      <td id=\"T_5748d_row2_col1\" class=\"data row2 col1\" >10.550000</td>\n",
       "      <td id=\"T_5748d_row2_col2\" class=\"data row2 col2\" >14.340000</td>\n",
       "    </tr>\n",
       "    <tr>\n",
       "      <th id=\"T_5748d_level0_row3\" class=\"row_heading level0 row3\" >min</th>\n",
       "      <td id=\"T_5748d_row3_col0\" class=\"data row3 col0\" >11.000000</td>\n",
       "      <td id=\"T_5748d_row3_col1\" class=\"data row3 col1\" >127.000000</td>\n",
       "      <td id=\"T_5748d_row3_col2\" class=\"data row3 col2\" >25.000000</td>\n",
       "    </tr>\n",
       "    <tr>\n",
       "      <th id=\"T_5748d_level0_row4\" class=\"row_heading level0 row4\" >25%</th>\n",
       "      <td id=\"T_5748d_row4_col0\" class=\"data row4 col0\" >21.000000</td>\n",
       "      <td id=\"T_5748d_row4_col1\" class=\"data row4 col1\" >168.000000</td>\n",
       "      <td id=\"T_5748d_row4_col2\" class=\"data row4 col2\" >60.000000</td>\n",
       "    </tr>\n",
       "    <tr>\n",
       "      <th id=\"T_5748d_level0_row5\" class=\"row_heading level0 row5\" >50%</th>\n",
       "      <td id=\"T_5748d_row5_col0\" class=\"data row5 col0\" >24.000000</td>\n",
       "      <td id=\"T_5748d_row5_col1\" class=\"data row5 col1\" >175.000000</td>\n",
       "      <td id=\"T_5748d_row5_col2\" class=\"data row5 col2\" >70.000000</td>\n",
       "    </tr>\n",
       "    <tr>\n",
       "      <th id=\"T_5748d_level0_row6\" class=\"row_heading level0 row6\" >75%</th>\n",
       "      <td id=\"T_5748d_row6_col0\" class=\"data row6 col0\" >28.000000</td>\n",
       "      <td id=\"T_5748d_row6_col1\" class=\"data row6 col1\" >183.000000</td>\n",
       "      <td id=\"T_5748d_row6_col2\" class=\"data row6 col2\" >79.000000</td>\n",
       "    </tr>\n",
       "    <tr>\n",
       "      <th id=\"T_5748d_level0_row7\" class=\"row_heading level0 row7\" >max</th>\n",
       "      <td id=\"T_5748d_row7_col0\" class=\"data row7 col0\" >71.000000</td>\n",
       "      <td id=\"T_5748d_row7_col1\" class=\"data row7 col1\" >226.000000</td>\n",
       "      <td id=\"T_5748d_row7_col2\" class=\"data row7 col2\" >214.000000</td>\n",
       "    </tr>\n",
       "  </tbody>\n",
       "</table>\n",
       "          <style type=\"text/css\">\n",
       "</style>\n",
       "<table id=\"T_d5a3a_\" style='display:inline'>\n",
       "  <caption>systematic_sample_describe</caption>\n",
       "  <thead>\n",
       "    <tr>\n",
       "      <th class=\"blank level0\" >&nbsp;</th>\n",
       "      <th class=\"col_heading level0 col0\" >Age</th>\n",
       "      <th class=\"col_heading level0 col1\" >Height</th>\n",
       "      <th class=\"col_heading level0 col2\" >Weight</th>\n",
       "    </tr>\n",
       "  </thead>\n",
       "  <tbody>\n",
       "    <tr>\n",
       "      <th id=\"T_d5a3a_level0_row0\" class=\"row_heading level0 row0\" >count</th>\n",
       "      <td id=\"T_d5a3a_row0_col0\" class=\"data row0 col0\" >68722.000000</td>\n",
       "      <td id=\"T_d5a3a_row0_col1\" class=\"data row0 col1\" >68722.000000</td>\n",
       "      <td id=\"T_d5a3a_row0_col2\" class=\"data row0 col2\" >68722.000000</td>\n",
       "    </tr>\n",
       "    <tr>\n",
       "      <th id=\"T_d5a3a_level0_row1\" class=\"row_heading level0 row1\" >mean</th>\n",
       "      <td id=\"T_d5a3a_row1_col0\" class=\"data row1 col0\" >25.050000</td>\n",
       "      <td id=\"T_d5a3a_row1_col1\" class=\"data row1 col1\" >175.380000</td>\n",
       "      <td id=\"T_d5a3a_row1_col2\" class=\"data row1 col2\" >70.690000</td>\n",
       "    </tr>\n",
       "    <tr>\n",
       "      <th id=\"T_d5a3a_level0_row2\" class=\"row_heading level0 row2\" >std</th>\n",
       "      <td id=\"T_d5a3a_row2_col0\" class=\"data row2 col0\" >5.480000</td>\n",
       "      <td id=\"T_d5a3a_row2_col1\" class=\"data row2 col1\" >10.530000</td>\n",
       "      <td id=\"T_d5a3a_row2_col2\" class=\"data row2 col2\" >14.310000</td>\n",
       "    </tr>\n",
       "    <tr>\n",
       "      <th id=\"T_d5a3a_level0_row3\" class=\"row_heading level0 row3\" >min</th>\n",
       "      <td id=\"T_d5a3a_row3_col0\" class=\"data row3 col0\" >11.000000</td>\n",
       "      <td id=\"T_d5a3a_row3_col1\" class=\"data row3 col1\" >127.000000</td>\n",
       "      <td id=\"T_d5a3a_row3_col2\" class=\"data row3 col2\" >25.000000</td>\n",
       "    </tr>\n",
       "    <tr>\n",
       "      <th id=\"T_d5a3a_level0_row4\" class=\"row_heading level0 row4\" >25%</th>\n",
       "      <td id=\"T_d5a3a_row4_col0\" class=\"data row4 col0\" >21.000000</td>\n",
       "      <td id=\"T_d5a3a_row4_col1\" class=\"data row4 col1\" >168.000000</td>\n",
       "      <td id=\"T_d5a3a_row4_col2\" class=\"data row4 col2\" >60.000000</td>\n",
       "    </tr>\n",
       "    <tr>\n",
       "      <th id=\"T_d5a3a_level0_row5\" class=\"row_heading level0 row5\" >50%</th>\n",
       "      <td id=\"T_d5a3a_row5_col0\" class=\"data row5 col0\" >24.000000</td>\n",
       "      <td id=\"T_d5a3a_row5_col1\" class=\"data row5 col1\" >175.000000</td>\n",
       "      <td id=\"T_d5a3a_row5_col2\" class=\"data row5 col2\" >70.000000</td>\n",
       "    </tr>\n",
       "    <tr>\n",
       "      <th id=\"T_d5a3a_level0_row6\" class=\"row_heading level0 row6\" >75%</th>\n",
       "      <td id=\"T_d5a3a_row6_col0\" class=\"data row6 col0\" >28.000000</td>\n",
       "      <td id=\"T_d5a3a_row6_col1\" class=\"data row6 col1\" >183.000000</td>\n",
       "      <td id=\"T_d5a3a_row6_col2\" class=\"data row6 col2\" >79.000000</td>\n",
       "    </tr>\n",
       "    <tr>\n",
       "      <th id=\"T_d5a3a_level0_row7\" class=\"row_heading level0 row7\" >max</th>\n",
       "      <td id=\"T_d5a3a_row7_col0\" class=\"data row7 col0\" >70.000000</td>\n",
       "      <td id=\"T_d5a3a_row7_col1\" class=\"data row7 col1\" >226.000000</td>\n",
       "      <td id=\"T_d5a3a_row7_col2\" class=\"data row7 col2\" >182.000000</td>\n",
       "    </tr>\n",
       "  </tbody>\n",
       "</table>\n"
      ]
     },
     "metadata": {},
     "output_type": "display_data"
    }
   ],
   "source": [
    "systematic_sample_describe = systematic_sample[['Age', 'Height', 'Weight']].describe().round(2)\n",
    "\n",
    "title1 = 'df_describe'\n",
    "title2 = 'systematic_sample_describe'\n",
    "side_by_side_df(df_describe, systematic_sample_describe,title1, title2)"
   ]
  },
  {
   "cell_type": "markdown",
   "id": "df15f1f0",
   "metadata": {},
   "source": [
    "### stratified_random_sample"
   ]
  },
  {
   "cell_type": "code",
   "execution_count": 48,
   "id": "81a6682e",
   "metadata": {
    "ExecuteTime": {
     "end_time": "2022-03-29T23:00:32.797875Z",
     "start_time": "2022-03-29T23:00:32.783022Z"
    }
   },
   "outputs": [
    {
     "data": {
      "text/html": [
       "<style type=\"text/css\">\n",
       "</style>\n",
       "<table id=\"T_02e40_\" style='display:inline'>\n",
       "  <caption>df_describe</caption>\n",
       "  <thead>\n",
       "    <tr>\n",
       "      <th class=\"blank level0\" >&nbsp;</th>\n",
       "      <th class=\"col_heading level0 col0\" >Age</th>\n",
       "      <th class=\"col_heading level0 col1\" >Height</th>\n",
       "      <th class=\"col_heading level0 col2\" >Weight</th>\n",
       "    </tr>\n",
       "  </thead>\n",
       "  <tbody>\n",
       "    <tr>\n",
       "      <th id=\"T_02e40_level0_row0\" class=\"row_heading level0 row0\" >count</th>\n",
       "      <td id=\"T_02e40_row0_col0\" class=\"data row0 col0\" >206165.000000</td>\n",
       "      <td id=\"T_02e40_row0_col1\" class=\"data row0 col1\" >206165.000000</td>\n",
       "      <td id=\"T_02e40_row0_col2\" class=\"data row0 col2\" >206165.000000</td>\n",
       "    </tr>\n",
       "    <tr>\n",
       "      <th id=\"T_02e40_level0_row1\" class=\"row_heading level0 row1\" >mean</th>\n",
       "      <td id=\"T_02e40_row1_col0\" class=\"data row1 col0\" >25.060000</td>\n",
       "      <td id=\"T_02e40_row1_col1\" class=\"data row1 col1\" >175.370000</td>\n",
       "      <td id=\"T_02e40_row1_col2\" class=\"data row1 col2\" >70.690000</td>\n",
       "    </tr>\n",
       "    <tr>\n",
       "      <th id=\"T_02e40_level0_row2\" class=\"row_heading level0 row2\" >std</th>\n",
       "      <td id=\"T_02e40_row2_col0\" class=\"data row2 col0\" >5.480000</td>\n",
       "      <td id=\"T_02e40_row2_col1\" class=\"data row2 col1\" >10.550000</td>\n",
       "      <td id=\"T_02e40_row2_col2\" class=\"data row2 col2\" >14.340000</td>\n",
       "    </tr>\n",
       "    <tr>\n",
       "      <th id=\"T_02e40_level0_row3\" class=\"row_heading level0 row3\" >min</th>\n",
       "      <td id=\"T_02e40_row3_col0\" class=\"data row3 col0\" >11.000000</td>\n",
       "      <td id=\"T_02e40_row3_col1\" class=\"data row3 col1\" >127.000000</td>\n",
       "      <td id=\"T_02e40_row3_col2\" class=\"data row3 col2\" >25.000000</td>\n",
       "    </tr>\n",
       "    <tr>\n",
       "      <th id=\"T_02e40_level0_row4\" class=\"row_heading level0 row4\" >25%</th>\n",
       "      <td id=\"T_02e40_row4_col0\" class=\"data row4 col0\" >21.000000</td>\n",
       "      <td id=\"T_02e40_row4_col1\" class=\"data row4 col1\" >168.000000</td>\n",
       "      <td id=\"T_02e40_row4_col2\" class=\"data row4 col2\" >60.000000</td>\n",
       "    </tr>\n",
       "    <tr>\n",
       "      <th id=\"T_02e40_level0_row5\" class=\"row_heading level0 row5\" >50%</th>\n",
       "      <td id=\"T_02e40_row5_col0\" class=\"data row5 col0\" >24.000000</td>\n",
       "      <td id=\"T_02e40_row5_col1\" class=\"data row5 col1\" >175.000000</td>\n",
       "      <td id=\"T_02e40_row5_col2\" class=\"data row5 col2\" >70.000000</td>\n",
       "    </tr>\n",
       "    <tr>\n",
       "      <th id=\"T_02e40_level0_row6\" class=\"row_heading level0 row6\" >75%</th>\n",
       "      <td id=\"T_02e40_row6_col0\" class=\"data row6 col0\" >28.000000</td>\n",
       "      <td id=\"T_02e40_row6_col1\" class=\"data row6 col1\" >183.000000</td>\n",
       "      <td id=\"T_02e40_row6_col2\" class=\"data row6 col2\" >79.000000</td>\n",
       "    </tr>\n",
       "    <tr>\n",
       "      <th id=\"T_02e40_level0_row7\" class=\"row_heading level0 row7\" >max</th>\n",
       "      <td id=\"T_02e40_row7_col0\" class=\"data row7 col0\" >71.000000</td>\n",
       "      <td id=\"T_02e40_row7_col1\" class=\"data row7 col1\" >226.000000</td>\n",
       "      <td id=\"T_02e40_row7_col2\" class=\"data row7 col2\" >214.000000</td>\n",
       "    </tr>\n",
       "  </tbody>\n",
       "</table>\n",
       "          <style type=\"text/css\">\n",
       "</style>\n",
       "<table id=\"T_67984_\" style='display:inline'>\n",
       "  <caption>stratified_sample_describe</caption>\n",
       "  <thead>\n",
       "    <tr>\n",
       "      <th class=\"blank level0\" >&nbsp;</th>\n",
       "      <th class=\"col_heading level0 col0\" >Age</th>\n",
       "      <th class=\"col_heading level0 col1\" >Height</th>\n",
       "      <th class=\"col_heading level0 col2\" >Weight</th>\n",
       "    </tr>\n",
       "  </thead>\n",
       "  <tbody>\n",
       "    <tr>\n",
       "      <th id=\"T_67984_level0_row0\" class=\"row_heading level0 row0\" >count</th>\n",
       "      <td id=\"T_67984_row0_col0\" class=\"data row0 col0\" >8.000000</td>\n",
       "      <td id=\"T_67984_row0_col1\" class=\"data row0 col1\" >8.000000</td>\n",
       "      <td id=\"T_67984_row0_col2\" class=\"data row0 col2\" >8.000000</td>\n",
       "    </tr>\n",
       "    <tr>\n",
       "      <th id=\"T_67984_level0_row1\" class=\"row_heading level0 row1\" >mean</th>\n",
       "      <td id=\"T_67984_row1_col0\" class=\"data row1 col0\" >25.750000</td>\n",
       "      <td id=\"T_67984_row1_col1\" class=\"data row1 col1\" >170.120000</td>\n",
       "      <td id=\"T_67984_row1_col2\" class=\"data row1 col2\" >61.250000</td>\n",
       "    </tr>\n",
       "    <tr>\n",
       "      <th id=\"T_67984_level0_row2\" class=\"row_heading level0 row2\" >std</th>\n",
       "      <td id=\"T_67984_row2_col0\" class=\"data row2 col0\" >5.200000</td>\n",
       "      <td id=\"T_67984_row2_col1\" class=\"data row2 col1\" >11.690000</td>\n",
       "      <td id=\"T_67984_row2_col2\" class=\"data row2 col2\" >11.260000</td>\n",
       "    </tr>\n",
       "    <tr>\n",
       "      <th id=\"T_67984_level0_row3\" class=\"row_heading level0 row3\" >min</th>\n",
       "      <td id=\"T_67984_row3_col0\" class=\"data row3 col0\" >16.000000</td>\n",
       "      <td id=\"T_67984_row3_col1\" class=\"data row3 col1\" >152.000000</td>\n",
       "      <td id=\"T_67984_row3_col2\" class=\"data row3 col2\" >45.000000</td>\n",
       "    </tr>\n",
       "    <tr>\n",
       "      <th id=\"T_67984_level0_row4\" class=\"row_heading level0 row4\" >25%</th>\n",
       "      <td id=\"T_67984_row4_col0\" class=\"data row4 col0\" >23.000000</td>\n",
       "      <td id=\"T_67984_row4_col1\" class=\"data row4 col1\" >162.000000</td>\n",
       "      <td id=\"T_67984_row4_col2\" class=\"data row4 col2\" >50.750000</td>\n",
       "    </tr>\n",
       "    <tr>\n",
       "      <th id=\"T_67984_level0_row5\" class=\"row_heading level0 row5\" >50%</th>\n",
       "      <td id=\"T_67984_row5_col0\" class=\"data row5 col0\" >26.500000</td>\n",
       "      <td id=\"T_67984_row5_col1\" class=\"data row5 col1\" >172.500000</td>\n",
       "      <td id=\"T_67984_row5_col2\" class=\"data row5 col2\" >64.500000</td>\n",
       "    </tr>\n",
       "    <tr>\n",
       "      <th id=\"T_67984_level0_row6\" class=\"row_heading level0 row6\" >75%</th>\n",
       "      <td id=\"T_67984_row6_col0\" class=\"data row6 col0\" >29.500000</td>\n",
       "      <td id=\"T_67984_row6_col1\" class=\"data row6 col1\" >180.500000</td>\n",
       "      <td id=\"T_67984_row6_col2\" class=\"data row6 col2\" >70.500000</td>\n",
       "    </tr>\n",
       "    <tr>\n",
       "      <th id=\"T_67984_level0_row7\" class=\"row_heading level0 row7\" >max</th>\n",
       "      <td id=\"T_67984_row7_col0\" class=\"data row7 col0\" >31.000000</td>\n",
       "      <td id=\"T_67984_row7_col1\" class=\"data row7 col1\" >182.000000</td>\n",
       "      <td id=\"T_67984_row7_col2\" class=\"data row7 col2\" >73.000000</td>\n",
       "    </tr>\n",
       "  </tbody>\n",
       "</table>\n"
      ]
     },
     "metadata": {},
     "output_type": "display_data"
    }
   ],
   "source": [
    "stratified_random_sample_describe = stratified_random_sample[['Age', 'Height', 'Weight']].describe().round(2)\n",
    "\n",
    "title1 = 'df_describe'\n",
    "title2 = 'stratified_sample_describe'\n",
    "side_by_side_df(df_describe, stratified_random_sample_describe,title1, title2)"
   ]
  },
  {
   "cell_type": "code",
   "execution_count": 49,
   "id": "0d3eb8ea",
   "metadata": {
    "ExecuteTime": {
     "end_time": "2022-03-29T23:00:33.142588Z",
     "start_time": "2022-03-29T23:00:33.079564Z"
    }
   },
   "outputs": [
    {
     "data": {
      "text/html": [
       "<style type=\"text/css\">\n",
       "</style>\n",
       "<table id=\"T_476e2_\" style='display:inline'>\n",
       "  <caption>df_describe</caption>\n",
       "  <thead>\n",
       "    <tr>\n",
       "      <th class=\"blank level0\" >&nbsp;</th>\n",
       "      <th class=\"col_heading level0 col0\" >Age</th>\n",
       "      <th class=\"col_heading level0 col1\" >Height</th>\n",
       "      <th class=\"col_heading level0 col2\" >Weight</th>\n",
       "    </tr>\n",
       "  </thead>\n",
       "  <tbody>\n",
       "    <tr>\n",
       "      <th id=\"T_476e2_level0_row0\" class=\"row_heading level0 row0\" >count</th>\n",
       "      <td id=\"T_476e2_row0_col0\" class=\"data row0 col0\" >206165.000000</td>\n",
       "      <td id=\"T_476e2_row0_col1\" class=\"data row0 col1\" >206165.000000</td>\n",
       "      <td id=\"T_476e2_row0_col2\" class=\"data row0 col2\" >206165.000000</td>\n",
       "    </tr>\n",
       "    <tr>\n",
       "      <th id=\"T_476e2_level0_row1\" class=\"row_heading level0 row1\" >mean</th>\n",
       "      <td id=\"T_476e2_row1_col0\" class=\"data row1 col0\" >25.060000</td>\n",
       "      <td id=\"T_476e2_row1_col1\" class=\"data row1 col1\" >175.370000</td>\n",
       "      <td id=\"T_476e2_row1_col2\" class=\"data row1 col2\" >70.690000</td>\n",
       "    </tr>\n",
       "    <tr>\n",
       "      <th id=\"T_476e2_level0_row2\" class=\"row_heading level0 row2\" >std</th>\n",
       "      <td id=\"T_476e2_row2_col0\" class=\"data row2 col0\" >5.480000</td>\n",
       "      <td id=\"T_476e2_row2_col1\" class=\"data row2 col1\" >10.550000</td>\n",
       "      <td id=\"T_476e2_row2_col2\" class=\"data row2 col2\" >14.340000</td>\n",
       "    </tr>\n",
       "    <tr>\n",
       "      <th id=\"T_476e2_level0_row3\" class=\"row_heading level0 row3\" >min</th>\n",
       "      <td id=\"T_476e2_row3_col0\" class=\"data row3 col0\" >11.000000</td>\n",
       "      <td id=\"T_476e2_row3_col1\" class=\"data row3 col1\" >127.000000</td>\n",
       "      <td id=\"T_476e2_row3_col2\" class=\"data row3 col2\" >25.000000</td>\n",
       "    </tr>\n",
       "    <tr>\n",
       "      <th id=\"T_476e2_level0_row4\" class=\"row_heading level0 row4\" >25%</th>\n",
       "      <td id=\"T_476e2_row4_col0\" class=\"data row4 col0\" >21.000000</td>\n",
       "      <td id=\"T_476e2_row4_col1\" class=\"data row4 col1\" >168.000000</td>\n",
       "      <td id=\"T_476e2_row4_col2\" class=\"data row4 col2\" >60.000000</td>\n",
       "    </tr>\n",
       "    <tr>\n",
       "      <th id=\"T_476e2_level0_row5\" class=\"row_heading level0 row5\" >50%</th>\n",
       "      <td id=\"T_476e2_row5_col0\" class=\"data row5 col0\" >24.000000</td>\n",
       "      <td id=\"T_476e2_row5_col1\" class=\"data row5 col1\" >175.000000</td>\n",
       "      <td id=\"T_476e2_row5_col2\" class=\"data row5 col2\" >70.000000</td>\n",
       "    </tr>\n",
       "    <tr>\n",
       "      <th id=\"T_476e2_level0_row6\" class=\"row_heading level0 row6\" >75%</th>\n",
       "      <td id=\"T_476e2_row6_col0\" class=\"data row6 col0\" >28.000000</td>\n",
       "      <td id=\"T_476e2_row6_col1\" class=\"data row6 col1\" >183.000000</td>\n",
       "      <td id=\"T_476e2_row6_col2\" class=\"data row6 col2\" >79.000000</td>\n",
       "    </tr>\n",
       "    <tr>\n",
       "      <th id=\"T_476e2_level0_row7\" class=\"row_heading level0 row7\" >max</th>\n",
       "      <td id=\"T_476e2_row7_col0\" class=\"data row7 col0\" >71.000000</td>\n",
       "      <td id=\"T_476e2_row7_col1\" class=\"data row7 col1\" >226.000000</td>\n",
       "      <td id=\"T_476e2_row7_col2\" class=\"data row7 col2\" >214.000000</td>\n",
       "    </tr>\n",
       "  </tbody>\n",
       "</table>\n",
       "          <style type=\"text/css\">\n",
       "</style>\n",
       "<table id=\"T_4eb17_\" style='display:inline'>\n",
       "  <caption>Smote sample describe</caption>\n",
       "  <thead>\n",
       "    <tr>\n",
       "      <th class=\"blank level0\" >&nbsp;</th>\n",
       "      <th class=\"col_heading level0 col0\" >Age</th>\n",
       "      <th class=\"col_heading level0 col1\" >Height</th>\n",
       "      <th class=\"col_heading level0 col2\" >Weight</th>\n",
       "    </tr>\n",
       "  </thead>\n",
       "  <tbody>\n",
       "    <tr>\n",
       "      <th id=\"T_4eb17_level0_row0\" class=\"row_heading level0 row0\" >count</th>\n",
       "      <td id=\"T_4eb17_row0_col0\" class=\"data row0 col0\" >4.000000</td>\n",
       "      <td id=\"T_4eb17_row0_col1\" class=\"data row0 col1\" >4.000000</td>\n",
       "      <td id=\"T_4eb17_row0_col2\" class=\"data row0 col2\" >4.000000</td>\n",
       "    </tr>\n",
       "    <tr>\n",
       "      <th id=\"T_4eb17_level0_row1\" class=\"row_heading level0 row1\" >mean</th>\n",
       "      <td id=\"T_4eb17_row1_col0\" class=\"data row1 col0\" >23.750000</td>\n",
       "      <td id=\"T_4eb17_row1_col1\" class=\"data row1 col1\" >174.000000</td>\n",
       "      <td id=\"T_4eb17_row1_col2\" class=\"data row1 col2\" >71.750000</td>\n",
       "    </tr>\n",
       "    <tr>\n",
       "      <th id=\"T_4eb17_level0_row2\" class=\"row_heading level0 row2\" >std</th>\n",
       "      <td id=\"T_4eb17_row2_col0\" class=\"data row2 col0\" >1.710000</td>\n",
       "      <td id=\"T_4eb17_row2_col1\" class=\"data row2 col1\" >11.660000</td>\n",
       "      <td id=\"T_4eb17_row2_col2\" class=\"data row2 col2\" >14.220000</td>\n",
       "    </tr>\n",
       "    <tr>\n",
       "      <th id=\"T_4eb17_level0_row3\" class=\"row_heading level0 row3\" >min</th>\n",
       "      <td id=\"T_4eb17_row3_col0\" class=\"data row3 col0\" >22.000000</td>\n",
       "      <td id=\"T_4eb17_row3_col1\" class=\"data row3 col1\" >162.000000</td>\n",
       "      <td id=\"T_4eb17_row3_col2\" class=\"data row3 col2\" >57.000000</td>\n",
       "    </tr>\n",
       "    <tr>\n",
       "      <th id=\"T_4eb17_level0_row4\" class=\"row_heading level0 row4\" >25%</th>\n",
       "      <td id=\"T_4eb17_row4_col0\" class=\"data row4 col0\" >22.750000</td>\n",
       "      <td id=\"T_4eb17_row4_col1\" class=\"data row4 col1\" >169.500000</td>\n",
       "      <td id=\"T_4eb17_row4_col2\" class=\"data row4 col2\" >63.000000</td>\n",
       "    </tr>\n",
       "    <tr>\n",
       "      <th id=\"T_4eb17_level0_row5\" class=\"row_heading level0 row5\" >50%</th>\n",
       "      <td id=\"T_4eb17_row5_col0\" class=\"data row5 col0\" >23.500000</td>\n",
       "      <td id=\"T_4eb17_row5_col1\" class=\"data row5 col1\" >172.000000</td>\n",
       "      <td id=\"T_4eb17_row5_col2\" class=\"data row5 col2\" >70.000000</td>\n",
       "    </tr>\n",
       "    <tr>\n",
       "      <th id=\"T_4eb17_level0_row6\" class=\"row_heading level0 row6\" >75%</th>\n",
       "      <td id=\"T_4eb17_row6_col0\" class=\"data row6 col0\" >24.500000</td>\n",
       "      <td id=\"T_4eb17_row6_col1\" class=\"data row6 col1\" >176.500000</td>\n",
       "      <td id=\"T_4eb17_row6_col2\" class=\"data row6 col2\" >78.750000</td>\n",
       "    </tr>\n",
       "    <tr>\n",
       "      <th id=\"T_4eb17_level0_row7\" class=\"row_heading level0 row7\" >max</th>\n",
       "      <td id=\"T_4eb17_row7_col0\" class=\"data row7 col0\" >26.000000</td>\n",
       "      <td id=\"T_4eb17_row7_col1\" class=\"data row7 col1\" >190.000000</td>\n",
       "      <td id=\"T_4eb17_row7_col2\" class=\"data row7 col2\" >90.000000</td>\n",
       "    </tr>\n",
       "  </tbody>\n",
       "</table>\n"
      ]
     },
     "metadata": {},
     "output_type": "display_data"
    }
   ],
   "source": [
    "X_season_sm_describe =X_season_sm[['Age', 'Height', 'Weight']].describe().round(2)\n",
    "\n",
    "title1 = 'df_describe'\n",
    "title2 = 'Smote sample describe'\n",
    "side_by_side_df(df_describe, simple_random_sample_describe,title1, title2)\n"
   ]
  },
  {
   "cell_type": "markdown",
   "id": "6a0486d1",
   "metadata": {},
   "source": [
    "\n",
    "### Adasyn Sample"
   ]
  },
  {
   "cell_type": "code",
   "execution_count": 50,
   "id": "9c9088f4",
   "metadata": {
    "ExecuteTime": {
     "end_time": "2022-03-29T23:00:33.644179Z",
     "start_time": "2022-03-29T23:00:33.598688Z"
    }
   },
   "outputs": [
    {
     "data": {
      "text/html": [
       "<style type=\"text/css\">\n",
       "</style>\n",
       "<table id=\"T_963c1_\" style='display:inline'>\n",
       "  <caption>df_describe</caption>\n",
       "  <thead>\n",
       "    <tr>\n",
       "      <th class=\"blank level0\" >&nbsp;</th>\n",
       "      <th class=\"col_heading level0 col0\" >Age</th>\n",
       "      <th class=\"col_heading level0 col1\" >Height</th>\n",
       "      <th class=\"col_heading level0 col2\" >Weight</th>\n",
       "    </tr>\n",
       "  </thead>\n",
       "  <tbody>\n",
       "    <tr>\n",
       "      <th id=\"T_963c1_level0_row0\" class=\"row_heading level0 row0\" >count</th>\n",
       "      <td id=\"T_963c1_row0_col0\" class=\"data row0 col0\" >206165.000000</td>\n",
       "      <td id=\"T_963c1_row0_col1\" class=\"data row0 col1\" >206165.000000</td>\n",
       "      <td id=\"T_963c1_row0_col2\" class=\"data row0 col2\" >206165.000000</td>\n",
       "    </tr>\n",
       "    <tr>\n",
       "      <th id=\"T_963c1_level0_row1\" class=\"row_heading level0 row1\" >mean</th>\n",
       "      <td id=\"T_963c1_row1_col0\" class=\"data row1 col0\" >25.060000</td>\n",
       "      <td id=\"T_963c1_row1_col1\" class=\"data row1 col1\" >175.370000</td>\n",
       "      <td id=\"T_963c1_row1_col2\" class=\"data row1 col2\" >70.690000</td>\n",
       "    </tr>\n",
       "    <tr>\n",
       "      <th id=\"T_963c1_level0_row2\" class=\"row_heading level0 row2\" >std</th>\n",
       "      <td id=\"T_963c1_row2_col0\" class=\"data row2 col0\" >5.480000</td>\n",
       "      <td id=\"T_963c1_row2_col1\" class=\"data row2 col1\" >10.550000</td>\n",
       "      <td id=\"T_963c1_row2_col2\" class=\"data row2 col2\" >14.340000</td>\n",
       "    </tr>\n",
       "    <tr>\n",
       "      <th id=\"T_963c1_level0_row3\" class=\"row_heading level0 row3\" >min</th>\n",
       "      <td id=\"T_963c1_row3_col0\" class=\"data row3 col0\" >11.000000</td>\n",
       "      <td id=\"T_963c1_row3_col1\" class=\"data row3 col1\" >127.000000</td>\n",
       "      <td id=\"T_963c1_row3_col2\" class=\"data row3 col2\" >25.000000</td>\n",
       "    </tr>\n",
       "    <tr>\n",
       "      <th id=\"T_963c1_level0_row4\" class=\"row_heading level0 row4\" >25%</th>\n",
       "      <td id=\"T_963c1_row4_col0\" class=\"data row4 col0\" >21.000000</td>\n",
       "      <td id=\"T_963c1_row4_col1\" class=\"data row4 col1\" >168.000000</td>\n",
       "      <td id=\"T_963c1_row4_col2\" class=\"data row4 col2\" >60.000000</td>\n",
       "    </tr>\n",
       "    <tr>\n",
       "      <th id=\"T_963c1_level0_row5\" class=\"row_heading level0 row5\" >50%</th>\n",
       "      <td id=\"T_963c1_row5_col0\" class=\"data row5 col0\" >24.000000</td>\n",
       "      <td id=\"T_963c1_row5_col1\" class=\"data row5 col1\" >175.000000</td>\n",
       "      <td id=\"T_963c1_row5_col2\" class=\"data row5 col2\" >70.000000</td>\n",
       "    </tr>\n",
       "    <tr>\n",
       "      <th id=\"T_963c1_level0_row6\" class=\"row_heading level0 row6\" >75%</th>\n",
       "      <td id=\"T_963c1_row6_col0\" class=\"data row6 col0\" >28.000000</td>\n",
       "      <td id=\"T_963c1_row6_col1\" class=\"data row6 col1\" >183.000000</td>\n",
       "      <td id=\"T_963c1_row6_col2\" class=\"data row6 col2\" >79.000000</td>\n",
       "    </tr>\n",
       "    <tr>\n",
       "      <th id=\"T_963c1_level0_row7\" class=\"row_heading level0 row7\" >max</th>\n",
       "      <td id=\"T_963c1_row7_col0\" class=\"data row7 col0\" >71.000000</td>\n",
       "      <td id=\"T_963c1_row7_col1\" class=\"data row7 col1\" >226.000000</td>\n",
       "      <td id=\"T_963c1_row7_col2\" class=\"data row7 col2\" >214.000000</td>\n",
       "    </tr>\n",
       "  </tbody>\n",
       "</table>\n",
       "          <style type=\"text/css\">\n",
       "</style>\n",
       "<table id=\"T_2826e_\" style='display:inline'>\n",
       "  <caption>Adasyn sample describe</caption>\n",
       "  <thead>\n",
       "    <tr>\n",
       "      <th class=\"blank level0\" >&nbsp;</th>\n",
       "      <th class=\"col_heading level0 col0\" >Age</th>\n",
       "      <th class=\"col_heading level0 col1\" >Height</th>\n",
       "      <th class=\"col_heading level0 col2\" >Weight</th>\n",
       "    </tr>\n",
       "  </thead>\n",
       "  <tbody>\n",
       "    <tr>\n",
       "      <th id=\"T_2826e_level0_row0\" class=\"row_heading level0 row0\" >count</th>\n",
       "      <td id=\"T_2826e_row0_col0\" class=\"data row0 col0\" >273113.000000</td>\n",
       "      <td id=\"T_2826e_row0_col1\" class=\"data row0 col1\" >273113.000000</td>\n",
       "      <td id=\"T_2826e_row0_col2\" class=\"data row0 col2\" >273113.000000</td>\n",
       "    </tr>\n",
       "    <tr>\n",
       "      <th id=\"T_2826e_level0_row1\" class=\"row_heading level0 row1\" >mean</th>\n",
       "      <td id=\"T_2826e_row1_col0\" class=\"data row1 col0\" >25.000000</td>\n",
       "      <td id=\"T_2826e_row1_col1\" class=\"data row1 col1\" >175.000000</td>\n",
       "      <td id=\"T_2826e_row1_col2\" class=\"data row1 col2\" >70.000000</td>\n",
       "    </tr>\n",
       "    <tr>\n",
       "      <th id=\"T_2826e_level0_row2\" class=\"row_heading level0 row2\" >std</th>\n",
       "      <td id=\"T_2826e_row2_col0\" class=\"data row2 col0\" >5.000000</td>\n",
       "      <td id=\"T_2826e_row2_col1\" class=\"data row2 col1\" >10.000000</td>\n",
       "      <td id=\"T_2826e_row2_col2\" class=\"data row2 col2\" >14.000000</td>\n",
       "    </tr>\n",
       "    <tr>\n",
       "      <th id=\"T_2826e_level0_row3\" class=\"row_heading level0 row3\" >min</th>\n",
       "      <td id=\"T_2826e_row3_col0\" class=\"data row3 col0\" >11.000000</td>\n",
       "      <td id=\"T_2826e_row3_col1\" class=\"data row3 col1\" >127.000000</td>\n",
       "      <td id=\"T_2826e_row3_col2\" class=\"data row3 col2\" >25.000000</td>\n",
       "    </tr>\n",
       "    <tr>\n",
       "      <th id=\"T_2826e_level0_row4\" class=\"row_heading level0 row4\" >25%</th>\n",
       "      <td id=\"T_2826e_row4_col0\" class=\"data row4 col0\" >21.000000</td>\n",
       "      <td id=\"T_2826e_row4_col1\" class=\"data row4 col1\" >168.000000</td>\n",
       "      <td id=\"T_2826e_row4_col2\" class=\"data row4 col2\" >61.000000</td>\n",
       "    </tr>\n",
       "    <tr>\n",
       "      <th id=\"T_2826e_level0_row5\" class=\"row_heading level0 row5\" >50%</th>\n",
       "      <td id=\"T_2826e_row5_col0\" class=\"data row5 col0\" >24.000000</td>\n",
       "      <td id=\"T_2826e_row5_col1\" class=\"data row5 col1\" >175.000000</td>\n",
       "      <td id=\"T_2826e_row5_col2\" class=\"data row5 col2\" >69.000000</td>\n",
       "    </tr>\n",
       "    <tr>\n",
       "      <th id=\"T_2826e_level0_row6\" class=\"row_heading level0 row6\" >75%</th>\n",
       "      <td id=\"T_2826e_row6_col0\" class=\"data row6 col0\" >28.000000</td>\n",
       "      <td id=\"T_2826e_row6_col1\" class=\"data row6 col1\" >182.000000</td>\n",
       "      <td id=\"T_2826e_row6_col2\" class=\"data row6 col2\" >78.000000</td>\n",
       "    </tr>\n",
       "    <tr>\n",
       "      <th id=\"T_2826e_level0_row7\" class=\"row_heading level0 row7\" >max</th>\n",
       "      <td id=\"T_2826e_row7_col0\" class=\"data row7 col0\" >71.000000</td>\n",
       "      <td id=\"T_2826e_row7_col1\" class=\"data row7 col1\" >226.000000</td>\n",
       "      <td id=\"T_2826e_row7_col2\" class=\"data row7 col2\" >214.000000</td>\n",
       "    </tr>\n",
       "  </tbody>\n",
       "</table>\n"
      ]
     },
     "metadata": {},
     "output_type": "display_data"
    }
   ],
   "source": [
    "adasyn_sample_describe = X_Medal_sm_adasyn[['Age', 'Height', 'Weight']].describe().round()\n",
    "title1 = 'df_describe'\n",
    "title2 = 'Adasyn sample describe'\n",
    "side_by_side_df(df_describe, adasyn_sample_describe,title1, title2)"
   ]
  },
  {
   "cell_type": "markdown",
   "id": "5b85f561",
   "metadata": {},
   "source": [
    "### Reservoir Sampling"
   ]
  },
  {
   "cell_type": "code",
   "execution_count": 51,
   "id": "a2c6b5ed",
   "metadata": {
    "ExecuteTime": {
     "end_time": "2022-03-29T23:00:34.049093Z",
     "start_time": "2022-03-29T23:00:34.034608Z"
    }
   },
   "outputs": [
    {
     "data": {
      "text/html": [
       "<style type=\"text/css\">\n",
       "</style>\n",
       "<table id=\"T_9ec2b_\" style='display:inline'>\n",
       "  <caption>df_describe</caption>\n",
       "  <thead>\n",
       "    <tr>\n",
       "      <th class=\"blank level0\" >&nbsp;</th>\n",
       "      <th class=\"col_heading level0 col0\" >Age</th>\n",
       "      <th class=\"col_heading level0 col1\" >Height</th>\n",
       "      <th class=\"col_heading level0 col2\" >Weight</th>\n",
       "    </tr>\n",
       "  </thead>\n",
       "  <tbody>\n",
       "    <tr>\n",
       "      <th id=\"T_9ec2b_level0_row0\" class=\"row_heading level0 row0\" >count</th>\n",
       "      <td id=\"T_9ec2b_row0_col0\" class=\"data row0 col0\" >206165.000000</td>\n",
       "      <td id=\"T_9ec2b_row0_col1\" class=\"data row0 col1\" >206165.000000</td>\n",
       "      <td id=\"T_9ec2b_row0_col2\" class=\"data row0 col2\" >206165.000000</td>\n",
       "    </tr>\n",
       "    <tr>\n",
       "      <th id=\"T_9ec2b_level0_row1\" class=\"row_heading level0 row1\" >mean</th>\n",
       "      <td id=\"T_9ec2b_row1_col0\" class=\"data row1 col0\" >25.060000</td>\n",
       "      <td id=\"T_9ec2b_row1_col1\" class=\"data row1 col1\" >175.370000</td>\n",
       "      <td id=\"T_9ec2b_row1_col2\" class=\"data row1 col2\" >70.690000</td>\n",
       "    </tr>\n",
       "    <tr>\n",
       "      <th id=\"T_9ec2b_level0_row2\" class=\"row_heading level0 row2\" >std</th>\n",
       "      <td id=\"T_9ec2b_row2_col0\" class=\"data row2 col0\" >5.480000</td>\n",
       "      <td id=\"T_9ec2b_row2_col1\" class=\"data row2 col1\" >10.550000</td>\n",
       "      <td id=\"T_9ec2b_row2_col2\" class=\"data row2 col2\" >14.340000</td>\n",
       "    </tr>\n",
       "    <tr>\n",
       "      <th id=\"T_9ec2b_level0_row3\" class=\"row_heading level0 row3\" >min</th>\n",
       "      <td id=\"T_9ec2b_row3_col0\" class=\"data row3 col0\" >11.000000</td>\n",
       "      <td id=\"T_9ec2b_row3_col1\" class=\"data row3 col1\" >127.000000</td>\n",
       "      <td id=\"T_9ec2b_row3_col2\" class=\"data row3 col2\" >25.000000</td>\n",
       "    </tr>\n",
       "    <tr>\n",
       "      <th id=\"T_9ec2b_level0_row4\" class=\"row_heading level0 row4\" >25%</th>\n",
       "      <td id=\"T_9ec2b_row4_col0\" class=\"data row4 col0\" >21.000000</td>\n",
       "      <td id=\"T_9ec2b_row4_col1\" class=\"data row4 col1\" >168.000000</td>\n",
       "      <td id=\"T_9ec2b_row4_col2\" class=\"data row4 col2\" >60.000000</td>\n",
       "    </tr>\n",
       "    <tr>\n",
       "      <th id=\"T_9ec2b_level0_row5\" class=\"row_heading level0 row5\" >50%</th>\n",
       "      <td id=\"T_9ec2b_row5_col0\" class=\"data row5 col0\" >24.000000</td>\n",
       "      <td id=\"T_9ec2b_row5_col1\" class=\"data row5 col1\" >175.000000</td>\n",
       "      <td id=\"T_9ec2b_row5_col2\" class=\"data row5 col2\" >70.000000</td>\n",
       "    </tr>\n",
       "    <tr>\n",
       "      <th id=\"T_9ec2b_level0_row6\" class=\"row_heading level0 row6\" >75%</th>\n",
       "      <td id=\"T_9ec2b_row6_col0\" class=\"data row6 col0\" >28.000000</td>\n",
       "      <td id=\"T_9ec2b_row6_col1\" class=\"data row6 col1\" >183.000000</td>\n",
       "      <td id=\"T_9ec2b_row6_col2\" class=\"data row6 col2\" >79.000000</td>\n",
       "    </tr>\n",
       "    <tr>\n",
       "      <th id=\"T_9ec2b_level0_row7\" class=\"row_heading level0 row7\" >max</th>\n",
       "      <td id=\"T_9ec2b_row7_col0\" class=\"data row7 col0\" >71.000000</td>\n",
       "      <td id=\"T_9ec2b_row7_col1\" class=\"data row7 col1\" >226.000000</td>\n",
       "      <td id=\"T_9ec2b_row7_col2\" class=\"data row7 col2\" >214.000000</td>\n",
       "    </tr>\n",
       "  </tbody>\n",
       "</table>\n",
       "          <style type=\"text/css\">\n",
       "</style>\n",
       "<table id=\"T_21e74_\" style='display:inline'>\n",
       "  <caption>df_reservoire_describe</caption>\n",
       "  <thead>\n",
       "    <tr>\n",
       "      <th class=\"blank level0\" >&nbsp;</th>\n",
       "      <th class=\"col_heading level0 col0\" >Age</th>\n",
       "      <th class=\"col_heading level0 col1\" >Height</th>\n",
       "      <th class=\"col_heading level0 col2\" >Weight</th>\n",
       "    </tr>\n",
       "  </thead>\n",
       "  <tbody>\n",
       "    <tr>\n",
       "      <th id=\"T_21e74_level0_row0\" class=\"row_heading level0 row0\" >count</th>\n",
       "      <td id=\"T_21e74_row0_col0\" class=\"data row0 col0\" >250.000000</td>\n",
       "      <td id=\"T_21e74_row0_col1\" class=\"data row0 col1\" >250.000000</td>\n",
       "      <td id=\"T_21e74_row0_col2\" class=\"data row0 col2\" >250.000000</td>\n",
       "    </tr>\n",
       "    <tr>\n",
       "      <th id=\"T_21e74_level0_row1\" class=\"row_heading level0 row1\" >mean</th>\n",
       "      <td id=\"T_21e74_row1_col0\" class=\"data row1 col0\" >24.120000</td>\n",
       "      <td id=\"T_21e74_row1_col1\" class=\"data row1 col1\" >174.760000</td>\n",
       "      <td id=\"T_21e74_row1_col2\" class=\"data row1 col2\" >69.810000</td>\n",
       "    </tr>\n",
       "    <tr>\n",
       "      <th id=\"T_21e74_level0_row2\" class=\"row_heading level0 row2\" >std</th>\n",
       "      <td id=\"T_21e74_row2_col0\" class=\"data row2 col0\" >4.690000</td>\n",
       "      <td id=\"T_21e74_row2_col1\" class=\"data row2 col1\" >10.790000</td>\n",
       "      <td id=\"T_21e74_row2_col2\" class=\"data row2 col2\" >14.420000</td>\n",
       "    </tr>\n",
       "    <tr>\n",
       "      <th id=\"T_21e74_level0_row3\" class=\"row_heading level0 row3\" >min</th>\n",
       "      <td id=\"T_21e74_row3_col0\" class=\"data row3 col0\" >15.000000</td>\n",
       "      <td id=\"T_21e74_row3_col1\" class=\"data row3 col1\" >142.000000</td>\n",
       "      <td id=\"T_21e74_row3_col2\" class=\"data row3 col2\" >33.000000</td>\n",
       "    </tr>\n",
       "    <tr>\n",
       "      <th id=\"T_21e74_level0_row4\" class=\"row_heading level0 row4\" >25%</th>\n",
       "      <td id=\"T_21e74_row4_col0\" class=\"data row4 col0\" >21.000000</td>\n",
       "      <td id=\"T_21e74_row4_col1\" class=\"data row4 col1\" >168.000000</td>\n",
       "      <td id=\"T_21e74_row4_col2\" class=\"data row4 col2\" >60.000000</td>\n",
       "    </tr>\n",
       "    <tr>\n",
       "      <th id=\"T_21e74_level0_row5\" class=\"row_heading level0 row5\" >50%</th>\n",
       "      <td id=\"T_21e74_row5_col0\" class=\"data row5 col0\" >24.000000</td>\n",
       "      <td id=\"T_21e74_row5_col1\" class=\"data row5 col1\" >174.500000</td>\n",
       "      <td id=\"T_21e74_row5_col2\" class=\"data row5 col2\" >68.000000</td>\n",
       "    </tr>\n",
       "    <tr>\n",
       "      <th id=\"T_21e74_level0_row6\" class=\"row_heading level0 row6\" >75%</th>\n",
       "      <td id=\"T_21e74_row6_col0\" class=\"data row6 col0\" >27.750000</td>\n",
       "      <td id=\"T_21e74_row6_col1\" class=\"data row6 col1\" >181.000000</td>\n",
       "      <td id=\"T_21e74_row6_col2\" class=\"data row6 col2\" >78.000000</td>\n",
       "    </tr>\n",
       "    <tr>\n",
       "      <th id=\"T_21e74_level0_row7\" class=\"row_heading level0 row7\" >max</th>\n",
       "      <td id=\"T_21e74_row7_col0\" class=\"data row7 col0\" >39.000000</td>\n",
       "      <td id=\"T_21e74_row7_col1\" class=\"data row7 col1\" >218.000000</td>\n",
       "      <td id=\"T_21e74_row7_col2\" class=\"data row7 col2\" >125.000000</td>\n",
       "    </tr>\n",
       "  </tbody>\n",
       "</table>\n"
      ]
     },
     "metadata": {},
     "output_type": "display_data"
    }
   ],
   "source": [
    "df_reservoir_describe = df_reservoir[['Age', 'Height', 'Weight']].describe().round(2)\n",
    "\n",
    "title1 = 'df_describe'\n",
    "title2 = 'df_reservoire_describe'\n",
    "side_by_side_df(df_describe, df_reservoir_describe,title1, title2)"
   ]
  }
 ],
 "metadata": {
  "kernelspec": {
   "display_name": "Python 3 (ipykernel)",
   "language": "python",
   "name": "python3"
  },
  "language_info": {
   "codemirror_mode": {
    "name": "ipython",
    "version": 3
   },
   "file_extension": ".py",
   "mimetype": "text/x-python",
   "name": "python",
   "nbconvert_exporter": "python",
   "pygments_lexer": "ipython3",
   "version": "3.9.7"
  },
  "toc": {
   "base_numbering": 1,
   "nav_menu": {},
   "number_sections": true,
   "sideBar": true,
   "skip_h1_title": false,
   "title_cell": "Table of Contents",
   "title_sidebar": "Contents",
   "toc_cell": false,
   "toc_position": {},
   "toc_section_display": true,
   "toc_window_display": false
  },
  "varInspector": {
   "cols": {
    "lenName": 16,
    "lenType": 16,
    "lenVar": 40
   },
   "kernels_config": {
    "python": {
     "delete_cmd_postfix": "",
     "delete_cmd_prefix": "del ",
     "library": "var_list.py",
     "varRefreshCmd": "print(var_dic_list())"
    },
    "r": {
     "delete_cmd_postfix": ") ",
     "delete_cmd_prefix": "rm(",
     "library": "var_list.r",
     "varRefreshCmd": "cat(var_dic_list()) "
    }
   },
   "types_to_exclude": [
    "module",
    "function",
    "builtin_function_or_method",
    "instance",
    "_Feature"
   ],
   "window_display": false
  }
 },
 "nbformat": 4,
 "nbformat_minor": 5
}
